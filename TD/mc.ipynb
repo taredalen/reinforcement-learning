{
 "cells": [
  {
   "cell_type": "code",
   "execution_count": null,
   "metadata": {
    "collapsed": true,
    "pycharm": {
     "is_executing": true
    }
   },
   "outputs": [],
   "source": [
    "import numpy as np\n",
    "import random\n",
    "#variables\n",
    "gamma = 1\n",
    "rewardSize = -1\n",
    "gridSize = 4\n",
    "terminationStates = [[0,0], [gridSize-1, gridSize-1]]\n",
    "actions = [[-1, 0], [1, 0], [0, 1], [0, -1]]\n",
    "numIterations = 100000\n",
    "\n",
    "# initialization\n",
    "V = np.zeros((gridSize, gridSize))\n",
    "states = [[i, j] for i in range(gridSize) for j in range(gridSize)]\n",
    "\n",
    "# utils\n",
    "def generateInitialState():\n",
    "    return random.choice(states[1:-1])\n",
    "\n",
    "def generateNextAction():\n",
    "    return random.choice(actions)\n",
    "\n",
    "def takeAction(state, action):\n",
    "    if list(state) in terminationStates:\n",
    "        return 0, None\n",
    "    finalState = np.array(state)+np.array(action)\n",
    "    # if robot crosses wall\n",
    "    if -1 in list(finalState) or gridSize in list(finalState):\n",
    "        finalState = state\n",
    "    return rewardSize, list(finalState)\n",
    "\n",
    "\n",
    "if __name__ == \"__main__\":\n",
    "    for i in range(gridSize):\n",
    "        for j in range(gridSize):\n",
    "            # Check we are not in a final state\n",
    "            # if list([i, j]) in terminationStates:\n",
    "            #    continue\n",
    "            reward = 0\n",
    "            current_state = [i, j]\n",
    "            for it in range(numIterations):\n",
    "                state = current_state\n",
    "                while state is not None:\n",
    "                    action = generateNextAction()\n",
    "                    r, state = takeAction(state, action)\n",
    "                    reward += r\n",
    "            V[i, j] = reward / numIterations\n",
    "    print(V)\n"
   ]
  },
  {
   "cell_type": "code",
   "execution_count": null,
   "outputs": [],
   "source": [
    "import numpy as np\n",
    "import random\n",
    "\n",
    "#variables\n",
    "gamma = 1\n",
    "rewardSize = -1\n",
    "gridSize = 6\n",
    "terminationStates = [[0,0], [gridSize-1, gridSize-1]]\n",
    "actions = [[-1, 0], [1, 0], [0, 1], [0, -1]]\n",
    "numIterations = 1000\n",
    "\n",
    "# initialization\n",
    "V = np.zeros((gridSize, gridSize))\n",
    "returns = {(i, j):list() for i in range(gridSize) for j in range(gridSize)}\n",
    "deltas = {(i, j):list() for i in range(gridSize) for j in range(gridSize)}\n",
    "states = [[i, j] for i in range(gridSize) for j in range(gridSize)]\n",
    "\n",
    "# utils\n",
    "def generateEpisode():\n",
    "    initState = random.choice(states[1:-1])\n",
    "    episode = []\n",
    "    while True:\n",
    "        if list(initState) in terminationStates:\n",
    "            return episode\n",
    "        action = random.choice(actions)\n",
    "        finalState = np.array(initState)+np.array(action)\n",
    "        if -1 in list(finalState) or gridSize in list(finalState):\n",
    "            finalState = initState\n",
    "        episode.append([list(initState), action, rewardSize, list(finalState)])\n",
    "        initState = finalState\n",
    "\n",
    "if __name__ == \"__main__\":\n",
    "    for it in range(numIterations):\n",
    "        G = 0\n",
    "        episode = generateEpisode()\n",
    "        for i, step in enumerate(episode[::-1]):\n",
    "            G = gamma * G + step[2]\n",
    "            if step[0] not in [x[0] for x in episode[::-1][len(episode)-i:]]:\n",
    "                idx = (step[0][0], step[0][1])\n",
    "                returns[idx].append(G)\n",
    "                newValue = np.average(returns[idx])\n",
    "                deltas[idx[0], idx[1]].append(np.abs(V[idx[0], idx[1]]-newValue))\n",
    "                V[idx[0], idx[1]] = newValue\n",
    "    print(V)"
   ],
   "metadata": {
    "collapsed": false,
    "pycharm": {
     "name": "#%%\n"
    }
   }
  }
 ],
 "metadata": {
  "kernelspec": {
   "display_name": "Python 3",
   "language": "python",
   "name": "python3"
  },
  "language_info": {
   "codemirror_mode": {
    "name": "ipython",
    "version": 2
   },
   "file_extension": ".py",
   "mimetype": "text/x-python",
   "name": "python",
   "nbconvert_exporter": "python",
   "pygments_lexer": "ipython2",
   "version": "2.7.6"
  }
 },
 "nbformat": 4,
 "nbformat_minor": 0
}