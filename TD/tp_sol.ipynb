{
 "nbformat": 4,
 "nbformat_minor": 0,
 "metadata": {
  "colab": {
   "provenance": []
  },
  "kernelspec": {
   "name": "python3",
   "display_name": "Python 3"
  }
 },
 "cells": [
  {
   "cell_type": "markdown",
   "source": [
    "# TD : policy iteration application\n"
   ],
   "metadata": {
    "collapsed": false,
    "pycharm": {
     "name": "#%% md\n"
    }
   }
  },
  {
   "cell_type": "code",
   "execution_count": 1,
   "outputs": [],
   "source": [
    "import numpy as np"
   ],
   "metadata": {
    "collapsed": false,
    "pycharm": {
     "name": "#%%\n"
    }
   }
  },
  {
   "cell_type": "code",
   "metadata": {
    "id": "QFJ3ReHgaYMW"
   },
   "source": [
    "#variables\n",
    "GAMMA = 1\n",
    "STEP_REWARD = -1\n",
    "GRID_SIZE = 4\n",
    "FINAL_STATES = [[0,0], [GRID_SIZE-1, GRID_SIZE-1]]\n",
    "ACTIONS = [[-1, 0], [1, 0], [0, 1], [0, -1]]"
   ],
   "execution_count": 5,
   "outputs": []
  },
  {
   "cell_type": "code",
   "metadata": {
    "id": "jTrqSAk5abtf"
   },
   "source": [
    "'''\n",
    "DO NOT MODIFY\n",
    "Function to compute :\n",
    "- final position after action\n",
    "- reward associated to the action\n",
    "'''\n",
    "\n",
    "def actionRewardFunction(initialPosition, action):\n",
    "\n",
    "    #case where we are at a final state\n",
    "    if initialPosition in FINAL_STATES:\n",
    "        return initialPosition, 0\n",
    "    \n",
    "    finalPosition = np.array(initialPosition) + np.array(action)\n",
    "    if -1 in finalPosition or GRID_SIZE in finalPosition: \n",
    "        finalPosition = initialPosition\n",
    "        \n",
    "    return finalPosition, STEP_REWARD\n"
   ],
   "execution_count": 6,
   "outputs": []
  },
  {
   "cell_type": "code",
   "metadata": {
    "id": "iLHxp0eNbJ09"
   },
   "source": [
    "'''\n",
    "YOUR MAIN FUNCTION TO MODIFY\n",
    "'''\n",
    "\n",
    "if __name__ == \"__main__\":\n",
    "    \n",
    "    #initialize value functions to 0\n",
    "    ValueFunctionMatrix = np.zeros((GRID_SIZE, GRID_SIZE))\n",
    "\n",
    "    for k in range(200000):\n",
    "      #Init\n",
    "      ValueFunctionMatrix_temp = np.copy(ValueFunctionMatrix)\n",
    "\n",
    "      #Iterate over states to update value functions\n",
    "      for i in range(GRID_SIZE):\n",
    "        for j in range(GRID_SIZE):\n",
    "          # we initialise value function for the state\n",
    "          valueFunction = 0\n",
    "          currentState = [i,j]\n",
    "          #Iterate over actions\n",
    "          for action in ACTIONS:\n",
    "            finalPosition, reward= actionRewardFunction(currentState, action)\n",
    "            valueFunction+=(1/len(ACTIONS))*(reward+GAMMA*ValueFunctionMatrix_temp[finalPosition[0],finalPosition[1]])\n",
    "          \n",
    "          ValueFunctionMatrix[i,j] =  valueFunction\n",
    "    \n",
    "    #Repeat the process\n",
    "\n",
    "    #Define stop condition is improvement for all value function is less than 10^(-2)"
   ],
   "execution_count": 7,
   "outputs": []
  },
  {
   "cell_type": "markdown",
   "metadata": {
    "id": "J9Iur_bqdTUQ"
   },
   "source": []
  },
  {
   "cell_type": "code",
   "metadata": {
    "colab": {
     "base_uri": "https://localhost:8080/"
    },
    "id": "sqK_mwKQb3Is",
    "outputId": "5aa8f348-60d9-4ee3-fd6a-7c702cf5c052"
   },
   "source": [
    "ValueFunctionMatrix"
   ],
   "execution_count": null,
   "outputs": []
  },
  {
   "cell_type": "code",
   "metadata": {
    "colab": {
     "base_uri": "https://localhost:8080/"
    },
    "id": "8Qn2an6-eYcO",
    "outputId": "44a188f5-3e8b-4526-bf83-8738e52a889d"
   },
   "source": [
    "valueFunction = 0\n",
    "currentState = [0,1]\n",
    "finalPosition, reward= actionRewardFunction(currentState, [0,-1])\n",
    "print(finalPosition)\n",
    "print(reward)\n",
    "valueFunction+=(1/len(ACTIONS))*(reward+GAMMA*ValueFunctionMatrix_temp[i, j])"
   ],
   "execution_count": null,
   "outputs": []
  },
  {
   "cell_type": "code",
   "metadata": {
    "id": "p89I1JC0ilwk",
    "pycharm": {
     "name": "#%%\n"
    }
   },
   "source": [
    "valueFunction=0\n",
    "finalPosition, reward= actionRewardFunction(currentState, [0,-1])\n",
    "valueFunction+=(1/len(ACTIONS))*(reward+GAMMA*ValueFunctionMatrix[i, j])"
   ],
   "execution_count": null,
   "outputs": []
  }
 ]
}