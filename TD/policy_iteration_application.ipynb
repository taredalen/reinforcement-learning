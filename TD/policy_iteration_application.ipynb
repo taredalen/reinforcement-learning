{
 "cells": [
  {
   "cell_type": "code",
   "execution_count": 1,
   "metadata": {
    "collapsed": true
   },
   "outputs": [],
   "source": [
    "import numpy as np\n",
    "\n",
    "#variables\n",
    "GAMMA = 1\n",
    "STEP_REWARD = -1\n",
    "GRID_SIZE = 4\n",
    "FINAL_STATES = [[0,0], [GRID_SIZE-1, GRID_SIZE-1]]\n",
    "ACTIONS = [[-1, 0], [1, 0], [0, 1], [0, -1]]\n",
    "\n",
    "def actionRewardFunction(initialPosition, action):\n",
    "\n",
    "    #case where we are at a final state\n",
    "    if initialPosition in FINAL_STATES:\n",
    "        return initialPosition, 0\n",
    "\n",
    "    finalPosition = np.array(initialPosition) + np.array(action)\n",
    "    if -1 in finalPosition or GRID_SIZE in finalPosition:\n",
    "        finalPosition = initialPosition\n",
    "\n",
    "    return finalPosition, STEP_REWARD"
   ]
  },
  {
   "cell_type": "code",
   "execution_count": null,
   "outputs": [],
   "source": [],
   "metadata": {
    "collapsed": false,
    "pycharm": {
     "name": "#%%\n"
    }
   }
  },
  {
   "cell_type": "code",
   "execution_count": null,
   "outputs": [],
   "source": [
    "if __name__ == \"__main__\":\n",
    "    #initialize value functions to 0\n",
    "\n",
    "    #Iterate over states to update value functions\n",
    "\n",
    "    #Repeat the process\n",
    "\n",
    "    #Define stop condition is improvement for all value function is less than 10^(-2)\n",
    "\n",
    "    #Deduce Policy map\n",
    "\n",
    "    #Create an agent which play with the environment"
   ],
   "metadata": {
    "collapsed": false,
    "pycharm": {
     "name": "#%%\n"
    }
   }
  }
 ],
 "metadata": {
  "kernelspec": {
   "display_name": "Python 3",
   "language": "python",
   "name": "python3"
  },
  "language_info": {
   "codemirror_mode": {
    "name": "ipython",
    "version": 2
   },
   "file_extension": ".py",
   "mimetype": "text/x-python",
   "name": "python",
   "nbconvert_exporter": "python",
   "pygments_lexer": "ipython2",
   "version": "2.7.6"
  }
 },
 "nbformat": 4,
 "nbformat_minor": 0
}