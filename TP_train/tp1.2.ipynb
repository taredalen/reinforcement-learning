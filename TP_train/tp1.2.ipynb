{
 "nbformat": 4,
 "nbformat_minor": 0,
 "metadata": {
  "colab": {
   "name": "tp1.ipynb",
   "provenance": [],
   "collapsed_sections": [],
   "authorship_tag": "ABX9TyOQoQu0NdyLooAntHDLvqqu"
  },
  "kernelspec": {
   "name": "python3",
   "display_name": "Python 3"
  }
 },
 "cells": [
  {
   "cell_type": "code",
   "metadata": {
    "id": "M39FV-1JsoRx"
   },
   "source": [
    "# Env Blackjack\n",
    "import gym\n",
    "from gym import spaces\n",
    "from gym.utils import seeding\n",
    "\n",
    "import matplotlib.pyplot as plt\n",
    "\n",
    "from matplotlib import cm\n",
    "\n",
    "import numpy as np\n",
    "\n",
    "\n",
    "def cmp(a, b):\n",
    "    return float(a > b) - float(a < b)\n",
    "\n",
    "\n",
    "# 1 = Ace, 2-10 = Number cards, Jack/Queen/King = 10\n",
    "deck = [1, 2, 3, 4, 5, 6, 7, 8, 9, 10, 10, 10, 10]\n",
    "\n",
    "\n",
    "def draw_card(np_random):\n",
    "    return int(np_random.choice(deck))\n",
    "\n",
    "\n",
    "def draw_hand(np_random):\n",
    "    return [draw_card(np_random), draw_card(np_random)]\n",
    "\n",
    "\n",
    "def usable_ace(hand):  # Does this hand have a usable ace?\n",
    "    return 1 in hand and sum(hand) + 10 <= 21\n",
    "    #return 0\n",
    "\n",
    "\n",
    "def sum_hand(hand):  # Return current hand total\n",
    "    if usable_ace(hand):\n",
    "        return sum(hand) + 10\n",
    "    return sum(hand)\n",
    "\n",
    "\n",
    "def is_bust(hand):  # Is this hand a bust?\n",
    "    return sum_hand(hand) > 21\n",
    "\n",
    "\n",
    "def score(hand):  # What is the score of this hand (0 if bust)\n",
    "    return 0 if is_bust(hand) else sum_hand(hand)\n",
    "\n",
    "\n",
    "def is_natural(hand):  # Is this hand a natural blackjack?\n",
    "    return sorted(hand) == [1, 10]\n",
    "\n",
    "\n",
    "class BlackjackEnv(gym.Env):\n",
    "    \"\"\"Simple blackjack environment\n",
    "    Blackjack is a card game where the goal is to obtain cards that sum to as\n",
    "    near as possible to 21 without going over. They're playing against a fixed\n",
    "    dealer.\n",
    "    Face cards (Jack, Queen, King) have point value 10.\n",
    "    Aces can either count as 11 or 1, and it's called 'usable' at 11.\n",
    "    This game is placed with an infinite deck (or with replacement).\n",
    "    The game starts with dealer having one face up and one face down card, while\n",
    "    player having two face up cards. (Virtually for all Blackjack games today).\n",
    "    The player can request additional cards (hit=1) until they decide to stop\n",
    "    (stick=0) or exceed 21 (bust).\n",
    "    After the player sticks, the dealer reveals their facedown card, and draws\n",
    "    until their sum is 17 or greater.  If the dealer goes bust the player wins.\n",
    "    If neither player nor dealer busts, the outcome (win, lose, draw) is\n",
    "    decided by whose sum is closer to 21.  The reward for winning is +1,\n",
    "    drawing is 0, and losing is -1.\n",
    "    The observation of a 3-tuple of: the players current sum,\n",
    "    the dealer's one showing card (1-10 where 1 is ace),\n",
    "    and whether or not the player holds a usable ace (0 or 1).\n",
    "    This environment corresponds to the version of the blackjack problem\n",
    "    described in Example 5.1 in Reinforcement Learning: An Introduction\n",
    "    by Sutton and Barto.\n",
    "    http://incompleteideas.net/book/the-book-2nd.html\n",
    "    \"\"\"\n",
    "    def __init__(self, natural=False):\n",
    "        self.action_space = spaces.Discrete(2)\n",
    "        self.observation_space = spaces.Tuple((\n",
    "            spaces.Discrete(32),\n",
    "            spaces.Discrete(11),\n",
    "            spaces.Discrete(2)))\n",
    "        self.seed()\n",
    "\n",
    "        # Flag to payout 1.5 on a \"natural\" blackjack win, like casino rules\n",
    "        # Ref: http://www.bicyclecards.com/how-to-play/blackjack/\n",
    "        self.natural = natural\n",
    "        # Start the first game\n",
    "        self.reset()\n",
    "\n",
    "    def seed(self, seed=None):\n",
    "        self.np_random, seed = seeding.np_random(seed)\n",
    "        return [seed]\n",
    "\n",
    "    def step(self, action):\n",
    "        assert self.action_space.contains(action)\n",
    "        if action:  # hit: add a card to players hand and return\n",
    "            self.player.append(draw_card(self.np_random))\n",
    "            if is_bust(self.player):\n",
    "                done = True\n",
    "                reward = -1.\n",
    "            else:\n",
    "                done = False\n",
    "                reward = 0.\n",
    "        else:  # stick: play out the dealers hand, and score\n",
    "            done = True\n",
    "            while sum_hand(self.dealer) < 17:\n",
    "                self.dealer.append(draw_card(self.np_random))\n",
    "            reward = cmp(score(self.player), score(self.dealer))\n",
    "            if self.natural and is_natural(self.player) and reward == 1.:\n",
    "                reward = 1.5\n",
    "        return self._get_obs(), reward, done, {}\n",
    "\n",
    "    def _get_obs(self):\n",
    "        return (sum_hand(self.player), self.dealer[0], usable_ace(self.player))\n",
    "\n",
    "    def reset(self):\n",
    "        self.dealer = draw_hand(self.np_random)\n",
    "        self.player = draw_hand(self.np_random)\n",
    "        return self._get_obs()\n",
    "\n",
    "    # Define reset position function to start from an initial position\n",
    "\n",
    "    def reset_init(self,hand_player, hand_dealer):\n",
    "        #TODO\n",
    "        self.player = hand_player\n",
    "        self.dealer = hand_dealer\n"
   ],
   "execution_count": 12,
   "outputs": []
  },
  {
   "cell_type": "code",
   "metadata": {
    "id": "W2pJLTyjAnJk"
   },
   "source": [
    "# Define the BlackJack env\n",
    "env = BlackjackEnv(gym.Env)\n",
    "\n",
    "# Play with it\n",
    "obs = env.reset()"
   ],
   "execution_count": 13,
   "outputs": []
  },
  {
   "cell_type": "code",
   "execution_count": 14,
   "outputs": [
    {
     "data": {
      "text/plain": "(18, 10, False)"
     },
     "execution_count": 14,
     "metadata": {},
     "output_type": "execute_result"
    }
   ],
   "source": [
    "obs"
   ],
   "metadata": {
    "collapsed": false,
    "pycharm": {
     "name": "#%%\n"
    }
   }
  },
  {
   "cell_type": "code",
   "execution_count": 15,
   "outputs": [
    {
     "data": {
      "text/plain": "((22, 10, False), -1.0, True, {})"
     },
     "execution_count": 15,
     "metadata": {},
     "output_type": "execute_result"
    }
   ],
   "source": [
    "env.step(1)"
   ],
   "metadata": {
    "collapsed": false,
    "pycharm": {
     "name": "#%%\n"
    }
   }
  },
  {
   "cell_type": "code",
   "execution_count": 16,
   "outputs": [
    {
     "data": {
      "text/plain": "((22, 10, False), -1.0, True, {})"
     },
     "execution_count": 16,
     "metadata": {},
     "output_type": "execute_result"
    }
   ],
   "source": [
    "env.step(0)"
   ],
   "metadata": {
    "collapsed": false,
    "pycharm": {
     "name": "#%%\n"
    }
   }
  },
  {
   "cell_type": "code",
   "execution_count": 17,
   "outputs": [
    {
     "data": {
      "text/plain": "[10, 10]"
     },
     "execution_count": 17,
     "metadata": {},
     "output_type": "execute_result"
    }
   ],
   "source": [
    "env.dealer"
   ],
   "metadata": {
    "collapsed": false,
    "pycharm": {
     "name": "#%%\n"
    }
   }
  },
  {
   "cell_type": "code",
   "execution_count": 18,
   "outputs": [
    {
     "name": "stdout",
     "output_type": "stream",
     "text": [
      "(13, 4, True)\n",
      "End game! Reward:  -1.0\n",
      "You lost :(\n",
      "\n",
      "(19, 4, False)\n",
      "End game! Reward:  1.0\n",
      "You won\n",
      "\n",
      "(14, 1, False)\n",
      "End game! Reward:  -1.0\n",
      "You lost :(\n",
      "\n"
     ]
    }
   ],
   "source": [
    "for i_episode in range(3):\n",
    "    state = env.reset()\n",
    "    while True:\n",
    "        print(state)\n",
    "        action = env.action_space.sample()\n",
    "        state, reward, done, info = env.step(action)\n",
    "        if done:\n",
    "            print('End game! Reward: ', reward)\n",
    "            print('You won\\n') if reward > 0 else print('You lost :(\\n')\n",
    "            break"
   ],
   "metadata": {
    "collapsed": false,
    "pycharm": {
     "name": "#%%\n"
    }
   }
  },
  {
   "cell_type": "markdown",
   "metadata": {
    "id": "VgSwnQpxJ8ZR"
   },
   "source": [
    "# Monte Carlo (MC) : Dealer vs. Random policy\n",
    "PREFERABLE TO NOT USE ACE !!!!!"
   ]
  },
  {
   "cell_type": "markdown",
   "metadata": {
    "id": "k9_Z6zw9KYqB"
   },
   "source": [
    "## In this part we will do MC prediction using dealer policy and compare it to the random one."
   ]
  },
  {
   "cell_type": "markdown",
   "metadata": {
    "id": "VbYTeOwxKvC9"
   },
   "source": [
    "### For random policy let's compute the value function for each state using Monte Carlo formula"
   ]
  },
  {
   "cell_type": "code",
   "execution_count": 24,
   "outputs": [
    {
     "data": {
      "text/plain": "1"
     },
     "execution_count": 24,
     "metadata": {},
     "output_type": "execute_result"
    }
   ],
   "source": [
    "# Initialize value function\n",
    "player_states_size = 21\n",
    "dealer_states_size = 10\n",
    "value_func_mc_random = np.zeros((dealer_states_size, player_states_size))\n",
    "\n",
    "nb_iteration = 10000\n",
    "\n",
    "def sample_policy(observation):\n",
    "    score, dealer_score, usable_ace = observation\n",
    "    return 0 if score >= 20 else 1\n",
    "\n",
    "sample_policy(obs)\n",
    "\n"
   ],
   "metadata": {
    "collapsed": false,
    "pycharm": {
     "name": "#%%\n"
    }
   }
  },
  {
   "cell_type": "code",
   "execution_count": 27,
   "outputs": [
    {
     "ename": "TypeError",
     "evalue": "choice() takes at least 1 positional argument (0 given)",
     "output_type": "error",
     "traceback": [
      "\u001B[0;31m---------------------------------------------------------------------------\u001B[0m",
      "\u001B[0;31mTypeError\u001B[0m                                 Traceback (most recent call last)",
      "Cell \u001B[0;32mIn [27], line 10\u001B[0m\n\u001B[1;32m      8\u001B[0m \u001B[38;5;28;01mwhile\u001B[39;00m \u001B[38;5;28;01mTrue\u001B[39;00m:\n\u001B[1;32m      9\u001B[0m     act_prob \u001B[38;5;241m=\u001B[39m sample_policy(obs)\n\u001B[0;32m---> 10\u001B[0m     action \u001B[38;5;241m=\u001B[39m \u001B[43mnp\u001B[49m\u001B[38;5;241;43m.\u001B[39;49m\u001B[43mrandom\u001B[49m\u001B[38;5;241;43m.\u001B[39;49m\u001B[43mchoice\u001B[49m\u001B[43m(\u001B[49m\u001B[43m \u001B[49m\u001B[43mp\u001B[49m\u001B[38;5;241;43m=\u001B[39;49m\u001B[43mact_prob\u001B[49m\u001B[43m)\u001B[49m\n\u001B[1;32m     12\u001B[0m     \u001B[38;5;66;03m#action = sample_policy(obs)\u001B[39;00m\n\u001B[1;32m     13\u001B[0m     obs, r, done, _ \u001B[38;5;241m=\u001B[39m env\u001B[38;5;241m.\u001B[39mstep(action)\n",
      "File \u001B[0;32mmtrand.pyx:807\u001B[0m, in \u001B[0;36mnumpy.random.mtrand.RandomState.choice\u001B[0;34m()\u001B[0m\n",
      "\u001B[0;31mTypeError\u001B[0m: choice() takes at least 1 positional argument (0 given)"
     ]
    }
   ],
   "source": [
    "# Iteration over all possible states\n",
    "for i in range(dealer_states_size):\n",
    "    for j in range(player_states_size):\n",
    "        env.reset_init([j], [i])\n",
    "        reward = 0\n",
    "        for k in range(nb_iteration):\n",
    "            env.reset_init([j], [i])\n",
    "            while True:\n",
    "                act_prob = sample_policy(obs)\n",
    "                action = np.random.choice( p=act_prob)\n",
    "\n",
    "                #action = sample_policy(obs)\n",
    "                obs, r, done, _ = env.step(action)\n",
    "                reward += r\n",
    "                if done : break\n",
    "        value_func_mc_random[i, j] = reward / nb_iteration\n"
   ],
   "metadata": {
    "collapsed": false,
    "pycharm": {
     "name": "#%%\n"
    }
   }
  },
  {
   "cell_type": "code",
   "execution_count": 10,
   "outputs": [
    {
     "data": {
      "text/plain": "<Figure size 500x800 with 2 Axes>",
      "image/png": "[encoded data removed]"
     },
     "metadata": {},
     "output_type": "display_data"
    }
   ],
   "source": [
    "import numpy\n",
    "import gym\n",
    "from matplotlib import pyplot\n",
    "import matplotlib.pyplot as plt\n",
    "from mpl_toolkits.mplot3d import Axes3D\n",
    "from collections import defaultdict\n",
    "from functools import partial\n",
    "%matplotlib inline\n",
    "\n",
    "plt.style.use('ggplot')\n",
    "\n",
    "## Blackjack Environment\n",
    "\n",
    "env.action_space, env.observation_space\n",
    "\n",
    "def sample_policy(observation):\n",
    "    score, dealer_score, usable_ace = observation\n",
    "    return 0 if score >= 20 else 1\n",
    "\n",
    "def generate_episode(policy, env):\n",
    "    states, actions, rewards = [], [], []\n",
    "    observation = env.reset()\n",
    "    while True:\n",
    "        states.append(observation)\n",
    "        action = sample_policy(observation)\n",
    "        actions.append(action)\n",
    "        observation, reward, done, info = env.step(action)\n",
    "        rewards.append(reward)\n",
    "        if done:\n",
    "            break\n",
    "\n",
    "    return states, actions, rewards\n",
    "\n",
    "\n",
    "def first_visit_mc_prediction(policy, env, n_episodes):\n",
    "    value_table = defaultdict(float)\n",
    "    N = defaultdict(int)\n",
    "\n",
    "    for _ in range(n_episodes):\n",
    "        states, _, rewards = generate_episode(policy, env)\n",
    "        returns = 0\n",
    "        for t in range(len(states) - 1, -1, -1):\n",
    "            R = rewards[t]\n",
    "            S = states[t]\n",
    "            returns += R\n",
    "            if S not in states[:t]:\n",
    "                N[S] += 1\n",
    "                value_table[S] += (returns - value_table[S]) / N[S]\n",
    "    return value_table\n",
    "\n",
    "def plot_blackjack(V, ax1, ax2):\n",
    "    player_sum = numpy.arange(12, 21 + 1)\n",
    "    dealer_show = numpy.arange(1, 10 + 1)\n",
    "    usable_ace = numpy.array([False, True])\n",
    "\n",
    "    state_values = numpy.zeros((len(player_sum),\n",
    "                                len(dealer_show),\n",
    "                                len(usable_ace)))\n",
    "\n",
    "    for i, player in enumerate(player_sum):\n",
    "        for j, dealer in enumerate(dealer_show):\n",
    "            for k, ace in enumerate(usable_ace):\n",
    "                state_values[i, j, k] = V[player, dealer, ace]\n",
    "\n",
    "    X, Y = numpy.meshgrid(player_sum, dealer_show)\n",
    "\n",
    "    ax1.plot_wireframe(X, Y, state_values[:, :, 0])\n",
    "    ax2.plot_wireframe(X, Y, state_values[:, :, 1])\n",
    "    for ax in ax1, ax2:\n",
    "        ax.set_zlim(-1, 1)\n",
    "        ax.set_ylabel('player sum')\n",
    "        ax.set_xlabel('dealer showing')\n",
    "        ax.set_zlabel('state-value')\n",
    "\n",
    "fig, axes = pyplot.subplots(nrows=2, figsize=(5, 8), subplot_kw={'projection': '3d'})\n",
    "axes[0].set_title('value function without usable ace')\n",
    "axes[1].set_title('value function with usable ace')\n",
    "\n",
    "value = first_visit_mc_prediction(sample_policy, env, n_episodes=500000)\n",
    "\n",
    "plot_blackjack(value, axes[0], axes[1])"
   ],
   "metadata": {
    "collapsed": false,
    "pycharm": {
     "name": "#%%\n"
    }
   }
  },
  {
   "cell_type": "code",
   "execution_count": null,
   "outputs": [],
   "source": [],
   "metadata": {
    "collapsed": false,
    "pycharm": {
     "name": "#%%\n"
    }
   }
  },
  {
   "cell_type": "code",
   "execution_count": null,
   "outputs": [],
   "source": [
    "# Iteration over all possible states\n",
    "for i in range(dealer_states_size):\n",
    "    for j in range(player_states_size):\n",
    "        env.reset_init([j], [i])\n",
    "        reward = 0\n",
    "        for k in range(nb_iteration):\n",
    "            env.reset_init([j], [i])\n",
    "            while True:\n",
    "                act_prob = sample_policy(obs)\n",
    "                action = np.random.choice(np.arange(len(act_prob)), p=act_prob)\n",
    "\n",
    "                #action = sample_policy(obs)\n",
    "                obs, r, done, _ = env.step(action)\n",
    "                reward += r\n",
    "                if done : break\n",
    "        value_func_mc_random[i, j] = reward / nb_iteration\n"
   ],
   "metadata": {
    "collapsed": false,
    "pycharm": {
     "name": "#%%\n"
    }
   }
  },
  {
   "cell_type": "code",
   "execution_count": 11,
   "outputs": [
    {
     "data": {
      "text/plain": "defaultdict(float,\n            {(20, 10, False): 0.4378045911336685,\n             (17, 10, False): -0.7011697814233078,\n             (13, 10, False): -0.6023751457957773,\n             (20, 9, False): 0.7589238845144373,\n             (16, 9, False): -0.6676482135846086,\n             (14, 9, False): -0.6224849616262189,\n             (20, 4, True): 0.6925498426023077,\n             (20, 7, False): 0.7740082810204322,\n             (12, 7, False): -0.5225146834892315,\n             (21, 10, True): 1.2378651202749147,\n             (14, 7, False): -0.5868648322956432,\n             (11, 7, False): -0.03601981089599275,\n             (21, 5, False): 0.8835616438356159,\n             (19, 5, False): -0.7341406108801749,\n             (16, 5, False): -0.6623452012383894,\n             (14, 5, False): -0.5977551020408153,\n             (10, 5, False): -0.13394298009682595,\n             (20, 6, False): 0.6899080122650271,\n             (10, 6, False): -0.11063829787234038,\n             (17, 2, False): -0.694867456288777,\n             (15, 2, False): -0.6148409893992913,\n             (16, 10, False): -0.6760909353626818,\n             (6, 10, False): -0.5418168709444852,\n             (20, 2, False): 0.6271297509829613,\n             (13, 2, False): -0.5834232678610003,\n             (19, 4, False): -0.7308946034045631,\n             (17, 4, False): -0.6834880123743231,\n             (16, 4, False): -0.6613991135093487,\n             (20, 1, False): 0.1471338434689221,\n             (19, 2, False): -0.725748930099858,\n             (12, 2, False): -0.5651012686401063,\n             (17, 9, False): -0.6573532188030964,\n             (17, 9, True): -0.3109843081312409,\n             (6, 9, False): -0.44942196531791906,\n             (18, 3, False): -0.7136271436474284,\n             (21, 10, False): 0.8877713075701456,\n             (14, 10, False): -0.6296030729833539,\n             (17, 3, False): -0.6712909441233154,\n             (20, 3, True): 0.6647791619479053,\n             (18, 10, False): -0.7288966243759426,\n             (20, 8, False): 0.79910361191669,\n             (11, 2, False): -0.05763308402991631,\n             (8, 2, False): -0.5659898477157372,\n             (21, 2, False): 0.8838980824796419,\n             (20, 2, True): 0.6506410256410251,\n             (12, 10, False): -0.5833333333333347,\n             (21, 1, False): 0.6329013488495115,\n             (13, 1, False): -0.6793717277486917,\n             (12, 1, False): -0.629130141604854,\n             (15, 9, False): -0.614560603054948,\n             (17, 5, False): -0.6873310158362272,\n             (13, 5, False): -0.5727848101265833,\n             (21, 5, True): 1.2472185135736524,\n             (17, 6, False): -0.6963370658569003,\n             (21, 3, True): 1.2387041773231025,\n             (19, 10, False): -0.7412644092219008,\n             (20, 8, True): 0.8146292585170334,\n             (16, 8, True): -0.2680722891566263,\n             (17, 7, False): -0.6607209215904866,\n             (11, 9, False): -0.040671971706454486,\n             (7, 9, False): -0.46758349705304497,\n             (20, 3, False): 0.651305274373999,\n             (9, 2, False): -0.5012853470437019,\n             (21, 8, True): 1.3042156465342518,\n             (15, 10, False): -0.6602178345849657,\n             (11, 10, False): -0.11512261580381514,\n             (8, 10, False): -0.5741299537316463,\n             (18, 4, False): -0.7078402366863893,\n             (16, 6, False): -0.6680818216904655,\n             (21, 6, False): 0.9031476997578708,\n             (18, 6, False): -0.6816937397335298,\n             (12, 6, False): -0.5232967032967029,\n             (14, 6, True): -0.2854166666666665,\n             (17, 1, False): -0.7474557105163984,\n             (10, 3, False): -0.12466270912034554,\n             (21, 7, False): 0.9235863474274069,\n             (15, 7, False): -0.6153241650294716,\n             (16, 7, False): -0.6369487033882271,\n             (14, 3, False): -0.5925010300782869,\n             (6, 3, False): -0.5277777777777772,\n             (14, 8, False): -0.5763902830756863,\n             (21, 7, True): 1.287106778910056,\n             (18, 2, False): -0.7204478707782673,\n             (16, 10, True): -0.4048760991207037,\n             (20, 5, False): 0.6702790571660826,\n             (15, 5, False): -0.6512433754586219,\n             (9, 10, False): -0.5473310756329651,\n             (14, 1, False): -0.7025316455696192,\n             (13, 9, False): -0.5468582457645296,\n             (18, 9, False): -0.707709170624771,\n             (20, 4, False): 0.6519724649192468,\n             (10, 4, False): -0.13811280969952555,\n             (15, 6, False): -0.627994167881691,\n             (15, 6, True): -0.32590051457975966,\n             (18, 7, False): -0.6875343218012054,\n             (7, 7, False): -0.4783027965284465,\n             (13, 7, False): -0.5768558951965068,\n             (9, 5, False): -0.5032258064516133,\n             (5, 5, False): -0.5444444444444445,\n             (12, 9, False): -0.5217777777777773,\n             (13, 3, False): -0.584103114930183,\n             (20, 10, True): 0.42122273094532797,\n             (19, 10, True): -0.48888230062259097,\n             (14, 10, True): -0.3857142857142855,\n             (18, 2, True): -0.45649582836710373,\n             (16, 2, True): -0.3856920684292377,\n             (16, 1, False): -0.7299749083188579,\n             (15, 1, False): -0.7154868987094258,\n             (21, 6, True): 1.261209378856438,\n             (19, 6, True): -0.4038680318543798,\n             (8, 6, False): -0.5420200462606014,\n             (7, 10, False): -0.5580602883355174,\n             (17, 1, True): -0.5276243093922649,\n             (6, 1, False): -0.6503401360544222,\n             (12, 5, False): -0.5401865008880986,\n             (11, 5, False): -0.013723696248856406,\n             (10, 8, False): -0.06822810590631381,\n             (11, 4, False): -0.07536101083032497,\n             (15, 4, False): -0.6255601013052788,\n             (12, 4, False): -0.528145324063691,\n             (19, 9, False): -0.7181586608442528,\n             (17, 8, False): -0.6667295004712519,\n             (7, 8, False): -0.5035035035035037,\n             (16, 3, False): -0.6640460210930005,\n             (21, 4, True): 1.239857333927774,\n             (13, 8, False): -0.5447033898305067,\n             (18, 1, False): -0.7735813953488384,\n             (19, 7, False): -0.726328977984607,\n             (9, 6, False): -0.5255102040816337,\n             (19, 8, False): -0.7223891146845738,\n             (14, 6, False): -0.5915320106361214,\n             (13, 4, False): -0.5662100456621002,\n             (14, 4, False): -0.6065208586472266,\n             (12, 3, False): -0.5298894653733366,\n             (21, 4, False): 0.8850422832980956,\n             (13, 4, True): -0.26923076923076916,\n             (15, 8, True): -0.33390410958904104,\n             (19, 2, True): -0.45843230403800483,\n             (20, 5, True): 0.6670201484623544,\n             (13, 5, True): -0.2620967741935483,\n             (8, 9, False): -0.5696721311475409,\n             (21, 1, True): 0.8958155422715628,\n             (19, 6, False): -0.7330455117826943,\n             (7, 4, False): -0.506903353057199,\n             (10, 2, False): -0.10605249062667381,\n             (5, 7, False): -0.4874999999999999,\n             (19, 7, True): -0.43736263736263775,\n             (12, 7, True): -0.22707423580786032,\n             (15, 10, True): -0.3664367816091952,\n             (13, 10, True): -0.3406478578892366,\n             (8, 8, False): -0.5031645569620256,\n             (14, 2, False): -0.5908340214698599,\n             (9, 7, False): -0.48488830486202295,\n             (11, 1, False): -0.2586427656850192,\n             (7, 1, False): -0.652221018418202,\n             (18, 8, False): -0.6856610800744887,\n             (21, 2, True): 1.2116724738675975,\n             (6, 6, False): -0.5436893203883492,\n             (17, 8, True): -0.3309455587392552,\n             (6, 8, False): -0.5206258890469414,\n             (5, 10, False): -0.5335497835497848,\n             (20, 7, True): 0.7407776669990024,\n             (18, 7, True): -0.3646616541353385,\n             (21, 9, False): 0.9447769314472271,\n             (16, 8, False): -0.6372659176029968,\n             (17, 7, True): -0.3192686357243323,\n             (16, 7, True): -0.3674796747967479,\n             (14, 7, True): -0.2892249527410208,\n             (10, 7, False): -0.08319738988580751,\n             (6, 7, False): -0.44011544011543985,\n             (19, 5, True): -0.4640820980615738,\n             (18, 5, True): -0.41844919786096274,\n             (17, 5, True): -0.3927007299270073,\n             (19, 1, False): -0.7903488161937471,\n             (10, 1, False): -0.344462109167992,\n             (18, 5, False): -0.7025362318840566,\n             (15, 8, False): -0.609022556390976,\n             (12, 8, False): -0.5331002840288396,\n             (21, 9, True): 1.2981018119068168,\n             (19, 3, False): -0.7372634643377005,\n             (11, 6, False): -0.10584958217270203,\n             (10, 10, False): -0.18328105822992014,\n             (15, 4, True): -0.2852292020373513,\n             (14, 4, True): -0.3300970873786413,\n             (15, 3, False): -0.6164571877454853,\n             (21, 8, False): 0.9317640835757713,\n             (17, 10, True): -0.42292200659099166,\n             (9, 3, False): -0.5077922077922076,\n             (12, 10, True): -0.2834051724137928,\n             (10, 9, False): -0.0932388222464559,\n             (20, 1, True): 0.14193548387096805,\n             (13, 6, False): -0.5860008536064863,\n             (8, 4, False): -0.5562859490550535,\n             (19, 4, True): -0.41293532338308425,\n             (9, 9, False): -0.4861294583883757,\n             (20, 9, True): 0.7824267782426773,\n             (9, 4, False): -0.5172863666014355,\n             (16, 2, False): -0.6650784196942624,\n             (16, 5, True): -0.32348367029548963,\n             (18, 3, True): -0.38174807197943467,\n             (5, 6, False): -0.5788336933045355,\n             (4, 10, False): -0.5178764897074755,\n             (19, 8, True): -0.35046728971962626,\n             (18, 8, True): -0.36595174262734587,\n             (8, 3, False): -0.5488782051282056,\n             (4, 3, False): -0.5258964143426299,\n             (7, 5, False): -0.5295358649789039,\n             (4, 5, False): -0.45739910313901344,\n             (21, 3, False): 0.8940867279894881,\n             (8, 5, False): -0.5377883850437556,\n             (18, 10, True): -0.4762379528082413,\n             (19, 1, True): -0.5805330243337201,\n             (8, 1, False): -0.6273393002441017,\n             (6, 5, False): -0.5142857142857135,\n             (13, 6, True): -0.38095238095238093,\n             (15, 1, True): -0.4794275491949914,\n             (16, 6, True): -0.3161993769470403,\n             (18, 9, True): -0.36848792884370984,\n             (13, 9, True): -0.2292490118577077,\n             (14, 1, True): -0.4813359528487228,\n             (14, 5, True): -0.27628865979381473,\n             (15, 5, True): -0.2883211678832117,\n             (7, 2, False): -0.47640449438202276,\n             (9, 8, False): -0.4722222222222228,\n             (15, 2, True): -0.295847750865052,\n             (18, 4, True): -0.40460947503201034,\n             (11, 8, False): -0.02150045745654164,\n             (19, 3, True): -0.4340527577937649,\n             (17, 3, True): -0.38695652173913037,\n             (13, 2, True): -0.27078891257995746,\n             (12, 1, True): -0.3846153846153846,\n             (6, 2, False): -0.5228951255539147,\n             (17, 2, True): -0.3983286908077995,\n             (11, 3, False): -0.04202440126525076,\n             (7, 3, False): -0.5446808510638292,\n             (4, 1, False): -0.5317073170731708,\n             (17, 4, True): -0.3153013910355486,\n             (12, 4, True): -0.17777777777777784,\n             (13, 3, True): -0.29386892177589885,\n             (15, 9, True): -0.32490974729241906,\n             (5, 8, False): -0.3919821826280626,\n             (14, 9, True): -0.2832699619771864,\n             (5, 2, False): -0.3960612691466081,\n             (16, 4, True): -0.4093097913322632,\n             (20, 6, True): 0.6886993603411524,\n             (4, 9, False): -0.4038461538461538,\n             (14, 2, True): -0.331395348837209,\n             (15, 3, True): -0.33561643835616434,\n             (14, 3, True): -0.36210131332082574,\n             (6, 4, False): -0.46920821114369554,\n             (12, 8, True): -0.29149797570850217,\n             (12, 2, True): -0.3056768558951965,\n             (19, 9, True): -0.38172715894868636,\n             (9, 1, False): -0.6507832898172323,\n             (7, 6, False): -0.55703211517165,\n             (13, 8, True): -0.21085594989561593,\n             (4, 8, False): -0.38053097345132714,\n             (4, 4, False): -0.4805825242718449,\n             (17, 6, True): -0.35450516986706077,\n             (16, 3, True): -0.37947882736156346,\n             (16, 9, True): -0.3187183811129847,\n             (8, 7, False): -0.5274900398406377,\n             (14, 8, True): -0.22179732313575506,\n             (15, 7, True): -0.29444444444444434,\n             (16, 1, True): -0.5627062706270631,\n             (18, 1, True): -0.5199468085106382,\n             (4, 2, False): -0.42180094786729877,\n             (18, 6, True): -0.39101717305151945,\n             (12, 9, True): -0.08658008658008659,\n             (4, 6, False): -0.4591439688715953,\n             (5, 3, False): -0.4788135593220335,\n             (5, 1, False): -0.549234135667396,\n             (12, 3, True): -0.14349775784753366,\n             (12, 5, True): -0.24401913875598083,\n             (13, 7, True): -0.25850340136054417,\n             (4, 7, False): -0.4641350210970466,\n             (5, 4, False): -0.4863636363636359,\n             (13, 1, True): -0.4088176352705409,\n             (5, 9, False): -0.5237113402061855,\n             (12, 6, True): -0.16000000000000011})"
     },
     "execution_count": 11,
     "metadata": {},
     "output_type": "execute_result"
    }
   ],
   "source": [
    "value"
   ],
   "metadata": {
    "collapsed": false,
    "pycharm": {
     "name": "#%%\n"
    }
   }
  },
  {
   "cell_type": "code",
   "execution_count": 34,
   "outputs": [],
   "source": [
    "import sys\n",
    "from collections import defaultdict\n",
    "\n",
    "def mc_prediction(policy, env, num_episodes, discount_factor=1.0):\n",
    "\n",
    "    returns_sum = defaultdict(float)\n",
    "    returns_count = defaultdict(float)\n",
    "\n",
    "    # The final value function\n",
    "    V = defaultdict(float)\n",
    "\n",
    "    for i_episode in range(1, num_episodes + 1):\n",
    "        # Print out which episode we're on, useful for debugging.\n",
    "        if i_episode % 1000 == 0:\n",
    "            print(\"\\rEpisode {}/{}.\".format(i_episode, num_episodes), end=\"\")\n",
    "            sys.stdout.flush()\n",
    "\n",
    "        # Generate an episode.\n",
    "        # An episode is an array of (state, action, reward) tuples\n",
    "        episode = []\n",
    "        state = env.reset()\n",
    "        for t in range(100):\n",
    "            action = policy(state)\n",
    "            next_state, reward, done, _ = env.step(action)\n",
    "            episode.append((state, action, reward))\n",
    "            if done:\n",
    "                break\n",
    "            state = next_state\n",
    "\n",
    "        # Find all states the we've visited in this episode\n",
    "        # We convert each state to a tuple so that we can use it as a dict key\n",
    "        states_in_episode = set([tuple(x[0]) for x in episode])\n",
    "        for state in states_in_episode:\n",
    "            # Find the first occurance of the state in the episode\n",
    "            first_occurence_idx = next(i for i,x in enumerate(episode) if x[0] == state)\n",
    "            # Sum up all rewards since the first occurance\n",
    "            G = sum([x[2]*(discount_factor**i) for i,x in enumerate(episode[first_occurence_idx:])])\n",
    "            # Calculate average return for this state over all sampled episodes\n",
    "            returns_sum[state] += G\n",
    "            returns_count[state] += 1.0\n",
    "            V[state] = returns_sum[state] / returns_count[state]\n",
    "\n",
    "    return V"
   ],
   "metadata": {
    "collapsed": false,
    "pycharm": {
     "name": "#%%\n"
    }
   }
  },
  {
   "cell_type": "code",
   "execution_count": 35,
   "outputs": [],
   "source": [
    "def sample_policy(observation):\n",
    "    score, dealer_score, usable_ace = observation\n",
    "    return 0 if score >= 20 else 1"
   ],
   "metadata": {
    "collapsed": false,
    "pycharm": {
     "name": "#%%\n"
    }
   }
  },
  {
   "cell_type": "code",
   "execution_count": 38,
   "outputs": [
    {
     "name": "stdout",
     "output_type": "stream",
     "text": [
      "Episode 10000/10000."
     ]
    }
   ],
   "source": [
    "V_10k = mc_prediction(sample_policy, env, 10000)"
   ],
   "metadata": {
    "collapsed": false,
    "pycharm": {
     "name": "#%%\n"
    }
   }
  },
  {
   "cell_type": "code",
   "execution_count": 39,
   "outputs": [
    {
     "data": {
      "text/plain": "defaultdict(float,\n            {(19, 1, False): -0.8977272727272727,\n             (19, 10, False): -0.7180616740088106,\n             (21, 10, True): 1.223756906077348,\n             (13, 4, False): -0.5564516129032258,\n             (17, 4, False): -0.5495495495495496,\n             (12, 4, False): -0.5979381443298969,\n             (19, 6, False): -0.792,\n             (9, 6, False): -0.75,\n             (16, 9, False): -0.7019230769230769,\n             (18, 9, False): -0.6140350877192983,\n             (18, 8, False): -0.75,\n             (8, 8, False): -0.52,\n             (15, 10, False): -0.6074270557029178,\n             (15, 5, False): -0.6122448979591837,\n             (13, 5, False): -0.5794392523364486,\n             (14, 10, False): -0.6498740554156172,\n             (17, 10, False): -0.7367149758454107,\n             (20, 9, False): 0.8383233532934131,\n             (12, 9, False): -0.4606741573033708,\n             (17, 3, False): -0.7398373983739838,\n             (21, 3, False): 0.918918918918919,\n             (16, 10, False): -0.7233009708737864,\n             (21, 3, True): 1.2156862745098038,\n             (10, 5, False): -0.2222222222222222,\n             (18, 5, False): -0.7383177570093458,\n             (16, 5, False): -0.5897435897435898,\n             (20, 5, False): 0.6688741721854304,\n             (18, 2, False): -0.7217391304347827,\n             (16, 2, False): -0.6886792452830188,\n             (18, 10, False): -0.6972704714640199,\n             (6, 10, False): -0.6029411764705882,\n             (11, 10, False): -0.14444444444444443,\n             (15, 9, False): -0.7176470588235294,\n             (12, 10, False): -0.5860215053763441,\n             (18, 4, False): -0.6565656565656566,\n             (11, 4, False): -0.047619047619047616,\n             (15, 4, False): -0.5955056179775281,\n             (20, 2, False): 0.6265822784810127,\n             (20, 3, False): 0.5746268656716418,\n             (21, 7, False): 0.9696969696969697,\n             (11, 7, False): -0.07142857142857142,\n             (21, 2, True): 1.1206896551724137,\n             (11, 8, False): -0.19148936170212766,\n             (16, 8, False): -0.7666666666666667,\n             (14, 8, False): -0.6304347826086957,\n             (12, 3, False): -0.5053763440860215,\n             (20, 7, False): 0.6933333333333334,\n             (13, 3, False): -0.5949367088607594,\n             (5, 10, False): -0.36666666666666664,\n             (15, 3, False): -0.5853658536585366,\n             (14, 8, True): 0.3,\n             (17, 8, False): -0.7452830188679245,\n             (17, 8, True): -0.38461538461538464,\n             (15, 3, True): 0.0,\n             (20, 10, False): 0.4643423137876387,\n             (18, 7, False): -0.6292134831460674,\n             (15, 7, False): -0.6666666666666666,\n             (21, 4, True): 1.2564102564102564,\n             (16, 4, True): -0.8333333333333334,\n             (19, 4, False): -0.6818181818181818,\n             (8, 10, False): -0.6730769230769231,\n             (21, 8, False): 0.9090909090909091,\n             (20, 8, True): 0.6666666666666666,\n             (19, 5, False): -0.8817204301075269,\n             (16, 1, False): -0.6696428571428571,\n             (10, 1, False): -0.3333333333333333,\n             (21, 1, True): 0.8947368421052632,\n             (14, 1, False): -0.7830188679245284,\n             (20, 6, False): 0.6956521739130435,\n             (21, 6, True): 1.1666666666666667,\n             (12, 2, False): -0.5483870967741935,\n             (17, 9, False): -0.6538461538461539,\n             (13, 9, False): -0.48,\n             (20, 8, False): 0.8029197080291971,\n             (14, 9, False): -0.5657894736842105,\n             (21, 4, False): 0.8985507246376812,\n             (19, 8, False): -0.6190476190476191,\n             (10, 10, False): -0.19718309859154928,\n             (13, 2, False): -0.5952380952380952,\n             (10, 8, False): -0.3170731707317073,\n             (17, 4, True): -0.6428571428571429,\n             (8, 2, False): -0.5666666666666667,\n             (20, 1, False): 0.041666666666666664,\n             (21, 5, True): 1.3333333333333333,\n             (13, 8, False): -0.5048543689320388,\n             (13, 1, False): -0.6574074074074074,\n             (18, 3, False): -0.6881720430107527,\n             (14, 3, False): -0.6494845360824743,\n             (19, 9, False): -0.6956521739130435,\n             (19, 10, True): -0.5396825396825397,\n             (7, 10, False): -0.36470588235294116,\n             (9, 10, False): -0.5087719298245614,\n             (20, 10, True): 0.5487804878048781,\n             (16, 4, False): -0.7575757575757576,\n             (12, 4, True): -0.6,\n             (19, 4, True): -0.15789473684210525,\n             (13, 2, True): -0.1,\n             (16, 6, False): -0.6057692307692307,\n             (18, 6, False): -0.6752136752136753,\n             (13, 6, False): -0.6542056074766355,\n             (11, 1, False): -0.3695652173913043,\n             (12, 8, False): -0.5052631578947369,\n             (14, 2, False): -0.6095238095238096,\n             (17, 1, False): -0.7676767676767676,\n             (12, 1, False): -0.5609756097560976,\n             (13, 10, False): -0.6483180428134556,\n             (9, 9, False): -0.6170212765957447,\n             (13, 10, True): -0.1794871794871795,\n             (15, 4, True): -0.2777777777777778,\n             (6, 2, False): -0.6666666666666666,\n             (15, 1, False): -0.7078651685393258,\n             (18, 1, False): -0.7837837837837838,\n             (9, 5, False): -0.25925925925925924,\n             (8, 5, False): -0.7948717948717948,\n             (15, 9, True): -0.7272727272727273,\n             (10, 7, False): -0.1,\n             (8, 7, False): -0.3333333333333333,\n             (16, 8, True): -0.42857142857142855,\n             (5, 8, False): -0.4444444444444444,\n             (14, 4, False): -0.6043956043956044,\n             (17, 6, False): -0.7459016393442623,\n             (21, 9, True): 1.302325581395349,\n             (19, 5, True): -0.5882352941176471,\n             (21, 6, False): 0.8648648648648649,\n             (18, 6, True): -0.36363636363636365,\n             (6, 5, False): -0.47368421052631576,\n             (21, 10, False): 0.8915254237288136,\n             (16, 7, False): -0.6548672566371682,\n             (19, 3, False): -0.6633663366336634,\n             (10, 3, False): 0.05714285714285714,\n             (17, 2, False): -0.7403846153846154,\n             (16, 3, False): -0.6320754716981132,\n             (21, 8, True): 1.3289473684210527,\n             (18, 9, True): -0.6666666666666666,\n             (8, 4, False): -0.8,\n             (5, 3, False): -0.6666666666666666,\n             (18, 10, True): -0.463768115942029,\n             (14, 10, True): -0.20454545454545456,\n             (13, 4, True): -0.25,\n             (20, 4, True): 0.6785714285714286,\n             (19, 3, True): -0.2857142857142857,\n             (9, 3, False): -0.4838709677419355,\n             (21, 9, False): 0.9594594594594594,\n             (20, 4, False): 0.7066666666666667,\n             (13, 7, False): -0.5402298850574713,\n             (19, 9, True): -0.13636363636363635,\n             (14, 9, True): 0.15384615384615385,\n             (20, 9, True): 0.85,\n             (14, 6, False): -0.625,\n             (17, 6, True): -0.3333333333333333,\n             (14, 7, False): -0.6309523809523809,\n             (7, 1, False): -0.4166666666666667,\n             (9, 1, False): -0.7857142857142857,\n             (15, 8, False): -0.6835443037974683,\n             (15, 8, True): 0.0,\n             (17, 7, False): -0.7572815533980582,\n             (4, 10, False): -0.5,\n             (15, 6, False): -0.7217391304347827,\n             (11, 5, False): -0.2826086956521739,\n             (21, 5, False): 0.8985507246376812,\n             (21, 1, False): 0.6388888888888888,\n             (11, 9, False): -0.08620689655172414,\n             (21, 2, False): 0.935064935064935,\n             (18, 1, True): -0.38461538461538464,\n             (19, 7, False): -0.7524752475247525,\n             (10, 9, False): 0.14634146341463414,\n             (12, 10, True): -0.4583333333333333,\n             (16, 10, True): -0.04,\n             (19, 2, False): -0.7788461538461539,\n             (11, 2, False): -0.046511627906976744,\n             (16, 6, True): -0.5625,\n             (8, 6, False): -0.6,\n             (10, 6, False): -0.10256410256410256,\n             (14, 4, True): -1.0,\n             (4, 2, False): 0.3333333333333333,\n             (17, 5, False): -0.6033057851239669,\n             (14, 5, False): -0.5789473684210527,\n             (12, 7, False): -0.4444444444444444,\n             (11, 6, False): -0.32,\n             (11, 3, False): 0.03225806451612903,\n             (18, 2, True): -0.4666666666666667,\n             (8, 1, False): -0.8148148148148148,\n             (15, 2, False): -0.7254901960784313,\n             (18, 4, True): -0.18181818181818182,\n             (15, 10, True): -0.2553191489361702,\n             (6, 3, False): -0.3333333333333333,\n             (12, 6, False): -0.5294117647058824,\n             (12, 6, True): -0.5,\n             (13, 6, True): -0.5,\n             (12, 5, False): -0.47126436781609193,\n             (20, 1, True): 0.1111111111111111,\n             (17, 1, True): -0.75,\n             (20, 2, True): 0.7727272727272727,\n             (7, 2, False): -0.38095238095238093,\n             (13, 9, True): -0.6,\n             (17, 10, True): -0.3050847457627119,\n             (6, 8, False): -0.42857142857142855,\n             (10, 4, False): -0.3448275862068966,\n             (18, 8, True): -0.25,\n             (7, 8, False): -0.5625,\n             (17, 3, True): -0.625,\n             (7, 5, False): -0.75,\n             (15, 7, True): -0.42857142857142855,\n             (16, 1, True): -0.25,\n             (15, 1, True): -0.8,\n             (19, 7, True): -0.4444444444444444,\n             (9, 8, False): -0.5,\n             (7, 9, False): -0.5454545454545454,\n             (18, 5, True): -0.125,\n             (19, 8, True): -0.2222222222222222,\n             (17, 7, True): -0.38461538461538464,\n             (21, 7, True): 1.3676470588235294,\n             (5, 5, False): -0.125,\n             (17, 5, True): -0.7777777777777778,\n             (13, 5, True): -0.7333333333333333,\n             (9, 7, False): -0.5135135135135135,\n             (9, 4, False): -0.5135135135135135,\n             (20, 5, True): 0.375,\n             (19, 2, True): -0.2,\n             (6, 9, False): -1.0,\n             (7, 4, False): -0.4117647058823529,\n             (9, 2, False): -0.5135135135135135,\n             (5, 2, False): -0.6,\n             (14, 3, True): -0.125,\n             (20, 3, True): 0.5625,\n             (16, 3, True): -0.4666666666666667,\n             (6, 6, False): -0.5,\n             (10, 2, False): -0.05405405405405406,\n             (18, 3, True): -0.5,\n             (7, 6, False): -0.6666666666666666,\n             (14, 6, True): -0.09090909090909091,\n             (17, 2, True): -0.23529411764705882,\n             (7, 7, False): -0.25,\n             (14, 1, True): -0.3125,\n             (13, 8, True): 0.23076923076923078,\n             (16, 2, True): 0.25,\n             (14, 2, True): -0.07692307692307693,\n             (5, 1, False): -0.9,\n             (20, 7, True): 0.7647058823529411,\n             (17, 9, True): -0.45454545454545453,\n             (6, 1, False): -0.5,\n             (16, 5, True): -0.17647058823529413,\n             (5, 9, False): -0.09090909090909091,\n             (14, 7, True): -0.38461538461538464,\n             (7, 3, False): -0.2,\n             (6, 7, False): -0.4444444444444444,\n             (15, 5, True): -0.25,\n             (14, 5, True): -0.6666666666666666,\n             (19, 6, True): -0.043478260869565216,\n             (6, 4, False): -0.5833333333333334,\n             (15, 2, True): -0.1111111111111111,\n             (19, 1, True): -1.0,\n             (4, 3, False): -0.3,\n             (18, 7, True): -0.1111111111111111,\n             (13, 3, True): 0.1111111111111111,\n             (8, 3, False): -0.75,\n             (8, 9, False): -0.5,\n             (12, 9, True): 1.0,\n             (4, 5, False): -0.75,\n             (20, 6, True): 0.7142857142857143,\n             (12, 5, True): 0.0,\n             (15, 6, True): -0.75,\n             (16, 9, True): -0.3333333333333333,\n             (5, 4, False): -0.3333333333333333,\n             (16, 7, True): -0.14285714285714285,\n             (4, 8, False): -0.6666666666666666,\n             (13, 7, True): -0.1,\n             (13, 1, True): -0.6666666666666666,\n             (5, 6, False): -0.7142857142857143,\n             (4, 9, False): -0.5,\n             (4, 7, False): -0.3333333333333333,\n             (12, 8, True): -0.5,\n             (4, 1, False): -0.5,\n             (12, 7, True): 0.0,\n             (5, 7, False): -1.0,\n             (12, 1, True): 0.2857142857142857,\n             (4, 6, False): 0.0,\n             (4, 4, False): -0.6666666666666666,\n             (12, 2, True): -0.2,\n             (12, 3, True): -0.5})"
     },
     "execution_count": 39,
     "metadata": {},
     "output_type": "execute_result"
    }
   ],
   "source": [
    "V_10k"
   ],
   "metadata": {
    "collapsed": false,
    "pycharm": {
     "name": "#%%\n"
    }
   }
  },
  {
   "cell_type": "code",
   "metadata": {
    "id": "TfcwcbhFA341"
   },
   "source": [
    "# Initialize value function \n",
    "player_states_size = defaultdict(float)\n",
    "dealer_states_size = defaultdict(float)\n",
    "value_func_mc_random = defaultdict(float)"
   ],
   "execution_count": 40,
   "outputs": []
  },
  {
   "cell_type": "code",
   "execution_count": 41,
   "outputs": [
    {
     "data": {
      "text/plain": "defaultdict(float, {})"
     },
     "execution_count": 41,
     "metadata": {},
     "output_type": "execute_result"
    }
   ],
   "source": [
    "player_states_size"
   ],
   "metadata": {
    "collapsed": false,
    "pycharm": {
     "name": "#%%\n"
    }
   }
  },
  {
   "cell_type": "code",
   "execution_count": null,
   "outputs": [],
   "source": [
    "def mc_prediction(policy, env, num_episodes, discount_factor=1.0):\n",
    "\n",
    "    returns_sum = defaultdict(float)\n",
    "    returns_count = defaultdict(float)\n",
    "\n",
    "    # The final value function\n",
    "    V = defaultdict(float)\n",
    "\n",
    "    for i_episode in range(1, num_episodes + 1):\n",
    "        # Print out which episode we're on, useful for debugging.\n",
    "        if i_episode % 1000 == 0:\n",
    "            print(\"\\rEpisode {}/{}.\".format(i_episode, num_episodes), end=\"\")\n",
    "            sys.stdout.flush()\n",
    "\n",
    "        # Generate an episode.\n",
    "        # An episode is an array of (state, action, reward) tuples\n",
    "        episode = []\n",
    "        state = env.reset()\n",
    "        for t in range(100):\n",
    "            action = policy(state)\n",
    "            next_state, reward, done, _ = env.step(action)\n",
    "            episode.append((state, action, reward))\n",
    "            if done:\n",
    "                break\n",
    "            state = next_state\n",
    "\n",
    "        # Find all states the we've visited in this episode\n",
    "        # We convert each state to a tuple so that we can use it as a dict key\n",
    "        states_in_episode = set([tuple(x[0]) for x in episode])\n",
    "        for state in states_in_episode:\n",
    "            # Find the first occurance of the state in the episode\n",
    "            first_occurence_idx = next(i for i,x in enumerate(episode) if x[0] == state)\n",
    "            # Sum up all rewards since the first occurance\n",
    "            G = sum([x[2]*(discount_factor**i) for i,x in enumerate(episode[first_occurence_idx:])])\n",
    "            # Calculate average return for this state over all sampled episodes\n",
    "            returns_sum[state] += G\n",
    "            returns_count[state] += 1.0\n",
    "            V[state] = returns_sum[state] / returns_count[state]\n",
    "\n",
    "    return V"
   ],
   "metadata": {
    "collapsed": false,
    "pycharm": {
     "name": "#%%\n"
    }
   }
  },
  {
   "cell_type": "code",
   "metadata": {
    "id": "kWb4jdqTA8x8"
   },
   "source": [
    "# For each state run 1000 iterations with random policy and compute the mean reward\n",
    "# !!!!!! You should modify the BlackJackEnv to start from a particular state\n",
    "\n",
    "nb_iteration = 10000\n",
    "\n",
    "# Iteration over all possible states\n"
   ],
   "execution_count": null,
   "outputs": []
  },
  {
   "cell_type": "code",
   "metadata": {
    "id": "GAS08CIaBkvn"
   },
   "source": [
    "# To plot in 3D we have to create X and Y matrix\n",
    "X = np.zeros((dealer_states_size, player_states_size))\n",
    "Y = np.zeros((dealer_states_size, player_states_size))\n",
    "\n",
    "for i in range(dealer_states_size):\n",
    "  X[i,:] = i+1\n",
    "\n",
    "for j in range(player_states_size):\n",
    "  Y[:,j] = j+2\n",
    "\n",
    "fig = plt.figure()\n",
    "ax = fig.gca(projection='3d')\n",
    "\n",
    "# Plot the surface.\n",
    "surf = ax.plot_surface(X, Y, value_func_mc_random, cmap=cm.coolwarm,\n",
    "                       linewidth=0, antialiased=False)"
   ],
   "execution_count": null,
   "outputs": []
  },
  {
   "cell_type": "markdown",
   "metadata": {
    "id": "0IPxOz96L7mc"
   },
   "source": [
    "### For dealer policy let's compute the value function for each state using Monte Carlo formula"
   ]
  },
  {
   "cell_type": "code",
   "metadata": {
    "id": "hQ3A-ItRA92r"
   },
   "source": [
    "# Initialize value function \n",
    "value_func_mc_dealer = "
   ],
   "execution_count": null,
   "outputs": []
  },
  {
   "cell_type": "code",
   "metadata": {
    "id": "Plo40BwDMJ8b"
   },
   "source": [
    "# For each state run 1000 iterations with dealer policy and compute the mean reward\n",
    "# !!!!!! You should modify the BlackJackEnv to start from a particular state\n",
    "\n",
    "nb_iteration = 10000\n",
    "\n",
    "\n"
   ],
   "execution_count": null,
   "outputs": []
  },
  {
   "cell_type": "code",
   "metadata": {
    "id": "pGAAXwMyB3MA"
   },
   "source": [
    "# Plot the surface for dealer policy\n",
    "surf = ax.plot_surface(X, Y, value_func_mc_dealer, cmap=cm.coolwarm,\n",
    "                       linewidth=0, antialiased=False)"
   ],
   "execution_count": null,
   "outputs": []
  },
  {
   "cell_type": "code",
   "metadata": {
    "id": "1BrTGFOnMVhs"
   },
   "source": [
    "# Compare both \n",
    "value_diff = value_func_mc_dealer - value_func_mc_random"
   ],
   "execution_count": null,
   "outputs": []
  },
  {
   "cell_type": "code",
   "metadata": {
    "id": "s8Q5HtO9ojMb"
   },
   "source": [
    "# Plot the surface difference\n",
    "surf = ax.plot_surface(X, Y, value_diff, cmap=cm.coolwarm,\n",
    "                       linewidth=0, antialiased=False)"
   ],
   "execution_count": null,
   "outputs": []
  },
  {
   "cell_type": "code",
   "metadata": {
    "id": "aa9Wb6fTkM04"
   },
   "source": [
    "# To check only when random policy is better than dealer policy\n",
    "value_diff_zero = np.zeros((dealer_states_size,player_states_size))\n",
    "for i in range(dealer_states_size):\n",
    "  for j in range(player_states_size):\n",
    "    value_diff_zero[i,j] = min(0,value_diff[i,j])"
   ],
   "execution_count": null,
   "outputs": []
  },
  {
   "cell_type": "code",
   "metadata": {
    "id": "CcdJYvF0kXyI"
   },
   "source": [
    "# Plot the surface for value_diff_zero.\n",
    "surf = ax.plot_surface(X, Y, value_diff_zero, cmap=cm.coolwarm,\n",
    "                       linewidth=0, antialiased=False)"
   ],
   "execution_count": null,
   "outputs": []
  },
  {
   "cell_type": "markdown",
   "metadata": {
    "id": "ZyZWN9wbj7zs"
   },
   "source": [
    "# Temporal Difference (TD) : Dealer vs. Random policy\n",
    "PREFERABLE TO NOT USE ACE !!!!!"
   ]
  },
  {
   "cell_type": "markdown",
   "metadata": {
    "id": "9H_IMXdIkNWI"
   },
   "source": [
    "## In this part we will do TD prediction using dealer policy and compare it to the random one."
   ]
  },
  {
   "cell_type": "markdown",
   "metadata": {
    "id": "cVis1PVRlENI"
   },
   "source": [
    "### For random policy let's compute the value function for each state using TD formula"
   ]
  },
  {
   "cell_type": "code",
   "metadata": {
    "id": "7gdI5aFvoF1r"
   },
   "source": [
    "# Parameters for TD\n",
    "alpha = 1\n",
    "gamma = 0.9"
   ],
   "execution_count": null,
   "outputs": []
  },
  {
   "cell_type": "code",
   "metadata": {
    "id": "y8uCwYzyj7cS"
   },
   "source": [
    "# Initialize action value function \n",
    "# HERE YOU MUST TAKE INTO ACCOUNT THE DEALER HAND\n",
    "value_func_td_random = #TODO"
   ],
   "execution_count": null,
   "outputs": []
  },
  {
   "cell_type": "code",
   "metadata": {
    "id": "L97fGeG7Cm6Y",
    "colab": {
     "base_uri": "https://localhost:8080/"
    },
    "executionInfo": {
     "status": "ok",
     "timestamp": 1611227280808,
     "user_tz": -60,
     "elapsed": 482,
     "user": {
      "displayName": "Waïl BENFATMA",
      "photoUrl": "https://lh3.googleusercontent.com/a-/AOh14GglClVYCXVnN8XbGIM-h7VIpWA0Xjxqs3NhxdQW=s64",
      "userId": "07362182303906326314"
     }
    },
    "outputId": "6070f2f7-cfd0-49af-cb26-4548da6f5c10"
   },
   "source": [
    "# Play only one step and update TD\n",
    "env.step(1)\n",
    "\n",
    "# Start from one random position\n",
    "env.reset()\n",
    "\n",
    "# Take one random action\n",
    "\n",
    "action = env.np_random.choice([0, 1])\n",
    "obs, r, done, _ = env.step(action)\n",
    "\n",
    "# Update for one step your value_func_td_random matrix according to the formula Main formula of TD(1)\n",
    "# V(St) <- V(St ) +  α(Rt+1+ γV(St+1) - V(St))\n",
    "\n",
    "value_func_td_random[env.dealer[0], sum_hand(env.player)] = value_func_td_random[env.dealer[0], sum_hand(env.player)] + alpha * (r + gamma * value_func_td_random[obs[1], obs[0]] - value_func_td_random[env.dealer[0], sum_hand(env.player)])\n",
    "\n",
    "# Update value_func_td_random\n"
   ],
   "execution_count": null,
   "outputs": [
    {
     "output_type": "execute_result",
     "data": {
      "text/plain": [
       "(14, 7, False)"
      ]
     },
     "metadata": {
      "tags": []
     },
     "execution_count": 78
    }
   ]
  },
  {
   "cell_type": "markdown",
   "source": [],
   "metadata": {
    "collapsed": false
   }
  },
  {
   "cell_type": "code",
   "execution_count": null,
   "outputs": [],
   "source": [
    "def td_prediction(policy, n_episodes, alfa=1.0, discount=1.0, env=env):\n",
    "\n",
    "    # Make a dictionary with deafult value 0.0\n",
    "    V = defaultdict(float)\n",
    "\n",
    "    for e in xrange(n_episodes):\n",
    "        env.reset()\n",
    "        now_state = env.state()\n",
    "        terminate = False\n",
    "\n",
    "        # Running an episode\n",
    "        while not terminate:\n",
    "            # Chosen action\n",
    "            act_prob = policy(*now_state)\n",
    "            action = np.random.choice(np.arange(len(act_prob)), p=act_prob)\n",
    "\n",
    "            # Take action\n",
    "            next_state, done, reward = env.act(action)\n",
    "\n",
    "            # Not waiting to generate one episode for TD update\n",
    "            delta = reward + discount * V[next_state] - V[now_state]\n",
    "            V[now_state] = V[now_state] + alfa * delta\n",
    "\n",
    "            # Move to the next state\n",
    "            now_state = next_state\n",
    "\n",
    "            if done:\n",
    "                terminate = True\n",
    "\n",
    "    return"
   ],
   "metadata": {
    "collapsed": false,
    "pycharm": {
     "name": "#%%\n"
    }
   }
  },
  {
   "cell_type": "code",
   "metadata": {
    "id": "D5LuKjAgTmiX"
   },
   "source": [
    "# Copy paste you code for one step and play ONE GAME (ie until the end of the episod)\n",
    "\n",
    "env.reset()\n",
    "done = False\n",
    "# We play util finish the game\n",
    "while (not done):\n",
    "  # TODO\n",
    "  \n"
   ],
   "execution_count": null,
   "outputs": []
  },
  {
   "cell_type": "code",
   "metadata": {
    "id": "XgI9G5QsrUGC"
   },
   "source": [
    "# Copy paste you code ONE GAME and do i for 1000000 iterations\n",
    "\n",
    "for i in range(1000000):\n",
    "  env.reset()\n",
    "  done = False\n",
    "  # We play util finish the game\n",
    "  while (not done):\n",
    "    # TODO\n",
    "  "
   ],
   "execution_count": null,
   "outputs": []
  },
  {
   "cell_type": "code",
   "metadata": {
    "id": "IvSN5XuqkyQ5"
   },
   "source": [
    "# Plot the surface."
   ],
   "execution_count": null,
   "outputs": []
  },
  {
   "cell_type": "markdown",
   "metadata": {
    "id": "SFFxJleUk7nk"
   },
   "source": [
    "### For dealer policy let's compute the value function for each state using TD formula"
   ]
  },
  {
   "cell_type": "code",
   "metadata": {
    "id": "NZbmic2Zk54h"
   },
   "source": [
    "# Initialize value function \n",
    "value_func_td_dealer = #TODO"
   ],
   "execution_count": null,
   "outputs": []
  },
  {
   "cell_type": "code",
   "metadata": {
    "id": "UfNY4uVclP4g"
   },
   "source": [
    "# Play about 1000000 games with random policy and compute value function for TD\n"
   ],
   "execution_count": null,
   "outputs": []
  },
  {
   "cell_type": "code",
   "metadata": {
    "id": "WV7NbR5HlRw0"
   },
   "source": [
    "# Plot and compare function"
   ],
   "execution_count": null,
   "outputs": []
  },
  {
   "cell_type": "markdown",
   "metadata": {
    "id": "2iCZvkQPlYb0"
   },
   "source": [
    "## SARSA and Q-learning"
   ]
  },
  {
   "cell_type": "markdown",
   "metadata": {
    "id": "VFIefgN_wJOf"
   },
   "source": [
    "### Let's implement epsilon-greedy policy function"
   ]
  },
  {
   "cell_type": "code",
   "metadata": {
    "id": "J3HlJKq2wUXy"
   },
   "source": [
    "\n",
    "# Suppose you are at state S, with action_value_function Q : action_value_func_td_eps_greedy\n",
    "# Define epsilon-greedy function\n",
    "\n",
    "def make_epsilon_greedy_policy(Q, epsilon, nA):\n",
    "    \"\"\"\n",
    "    Creates an epsilon-greedy policy based on a given Q-function and epsilon.\n",
    "    \n",
    "    Args:\n",
    "        Q: The matrix of action value function\n",
    "            Q[dealer_hand, player_hand, action]\n",
    "        \n",
    "        epsilon: The probability to select a random action . float between 0 and 1.\n",
    "    \n",
    "    Returns:\n",
    "        Action 0 or 1\n",
    "        \n",
    "    \"\"\"\n",
    "\n",
    "    return action"
   ],
   "execution_count": null,
   "outputs": []
  },
  {
   "cell_type": "markdown",
   "metadata": {
    "id": "Ea8W7_qwlTJr"
   },
   "source": [
    "### Apply SARSA to the game"
   ]
  },
  {
   "cell_type": "code",
   "metadata": {
    "id": "gXlU1plMlib2"
   },
   "source": [
    "# Initialize action value function\n",
    "# TODO\n",
    "action_value_func_SARSA_eps_greedy = #TODO\n"
   ],
   "execution_count": null,
   "outputs": []
  },
  {
   "cell_type": "code",
   "metadata": {
    "id": "BKpF3Ok1zWca"
   },
   "source": [
    "# Play only one step and update action value function for SARSA\n",
    "\n",
    "\n",
    "# Start from one random position\n",
    "env.reset()\n",
    "\n",
    "# For state (St) Take one eps greedy action (At)\n",
    "\n",
    "# For state (St+1) Take a second eps greedy action (At+1)\n",
    "\n",
    "\n",
    "# Update for one step your value_func_td_random matrix according to the formula Main formula of TD(1)\n",
    "# Q(St,At) <- Q(St,At) +  α(Rt+1+ γQ(St+1,At+1) - Q(St,At))\n",
    "\n",
    "\n"
   ],
   "execution_count": null,
   "outputs": []
  },
  {
   "cell_type": "code",
   "metadata": {
    "id": "90nIDoEmSrvz"
   },
   "source": [
    "# Copy paste you code for one step and play ONE GAME (ie until the end of the episod)\n",
    "\n",
    "env.reset()\n",
    "done = False\n",
    "# We play util finish the game\n",
    "while (not done):\n",
    "  # TODO"
   ],
   "execution_count": null,
   "outputs": []
  },
  {
   "cell_type": "code",
   "metadata": {
    "id": "pEI8hxlcSxes"
   },
   "source": [
    "# Copy paste you code ONE GAME and do i for 1000000 iterations\n",
    "\n",
    "for i in range(1000000):\n",
    "  env.reset()\n",
    "  done = False\n",
    "  # We play util finish the game\n",
    "  while (not done):\n",
    "    # TODO\n",
    "  "
   ],
   "execution_count": null,
   "outputs": []
  },
  {
   "cell_type": "markdown",
   "metadata": {
    "id": "Il9Jnskhlk1Y"
   },
   "source": [
    "### Apply Q-learning"
   ]
  },
  {
   "cell_type": "code",
   "metadata": {
    "id": "6dztKiMklnsj"
   },
   "source": [
    "# TODO Off policy over on-policy SARSA"
   ],
   "execution_count": null,
   "outputs": []
  },
  {
   "cell_type": "code",
   "metadata": {
    "id": "NRyCK59OlsW6"
   },
   "source": [
    "# Compare learning time of SARSA vs. Qlearning (ie draw ecart over iteration and see first to converge)"
   ],
   "execution_count": null,
   "outputs": []
  },
  {
   "cell_type": "code",
   "metadata": {
    "id": "u6_VMcQBMvRv"
   },
   "source": [
    ""
   ],
   "execution_count": null,
   "outputs": []
  }
 ]
}