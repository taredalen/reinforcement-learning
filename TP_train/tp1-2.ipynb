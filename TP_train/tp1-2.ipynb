{
 "nbformat": 4,
 "nbformat_minor": 0,
 "metadata": {
  "colab": {
   "name": "tp1.ipynb",
   "provenance": [],
   "collapsed_sections": [],
   "authorship_tag": "ABX9TyOQoQu0NdyLooAntHDLvqqu"
  },
  "kernelspec": {
   "name": "python3",
   "display_name": "Python 3"
  }
 },
 "cells": [
  {
   "cell_type": "code",
   "metadata": {
    "id": "M39FV-1JsoRx"
   },
   "source": [
    "# Env Blackjack\n",
    "import gym\n",
    "from gym import spaces\n",
    "from gym.utils import seeding\n",
    "\n",
    "import matplotlib.pyplot as plt\n",
    "\n",
    "from matplotlib import cm\n",
    "\n",
    "import numpy as np\n",
    "\n",
    "\n",
    "def cmp(a, b):\n",
    "    return float(a > b) - float(a < b)\n",
    "\n",
    "\n",
    "# 1 = Ace, 2-10 = Number cards, Jack/Queen/King = 10\n",
    "deck = [1, 2, 3, 4, 5, 6, 7, 8, 9, 10, 10, 10, 10]\n",
    "\n",
    "\n",
    "def draw_card(np_random):\n",
    "    return int(np_random.choice(deck))\n",
    "\n",
    "\n",
    "def draw_hand(np_random):\n",
    "    return [draw_card(np_random), draw_card(np_random)]\n",
    "\n",
    "\n",
    "def usable_ace(hand):  # Does this hand have a usable ace?\n",
    "    return 1 in hand and sum(hand) + 10 <= 21\n",
    "    #return 0\n",
    "\n",
    "\n",
    "def sum_hand(hand):  # Return current hand total\n",
    "    if usable_ace(hand):\n",
    "        return sum(hand) + 10\n",
    "    return sum(hand)\n",
    "\n",
    "\n",
    "def is_bust(hand):  # Is this hand a bust?\n",
    "    return sum_hand(hand) > 21\n",
    "\n",
    "\n",
    "def score(hand):  # What is the score of this hand (0 if bust)\n",
    "    return 0 if is_bust(hand) else sum_hand(hand)\n",
    "\n",
    "\n",
    "def is_natural(hand):  # Is this hand a natural blackjack?\n",
    "    return sorted(hand) == [1, 10]\n",
    "\n",
    "\n",
    "class BlackjackEnv(gym.Env):\n",
    "    \"\"\"Simple blackjack environment\n",
    "    Blackjack is a card game where the goal is to obtain cards that sum to as\n",
    "    near as possible to 21 without going over. They're playing against a fixed\n",
    "    dealer.\n",
    "    Face cards (Jack, Queen, King) have point value 10.\n",
    "    Aces can either count as 11 or 1, and it's called 'usable' at 11.\n",
    "    This game is placed with an infinite deck (or with replacement).\n",
    "    The game starts with dealer having one face up and one face down card, while\n",
    "    player having two face up cards. (Virtually for all Blackjack games today).\n",
    "    The player can request additional cards (hit=1) until they decide to stop\n",
    "    (stick=0) or exceed 21 (bust).\n",
    "    After the player sticks, the dealer reveals their facedown card, and draws\n",
    "    until their sum is 17 or greater.  If the dealer goes bust the player wins.\n",
    "    If neither player nor dealer busts, the outcome (win, lose, draw) is\n",
    "    decided by whose sum is closer to 21.  The reward for winning is +1,\n",
    "    drawing is 0, and losing is -1.\n",
    "    The observation of a 3-tuple of: the players current sum,\n",
    "    the dealer's one showing card (1-10 where 1 is ace),\n",
    "    and whether or not the player holds a usable ace (0 or 1).\n",
    "    This environment corresponds to the version of the blackjack problem\n",
    "    described in Example 5.1 in Reinforcement Learning: An Introduction\n",
    "    by Sutton and Barto.\n",
    "    http://incompleteideas.net/book/the-book-2nd.html\n",
    "    \"\"\"\n",
    "    def __init__(self, natural=False):\n",
    "        self.action_space = spaces.Discrete(2)\n",
    "        self.observation_space = spaces.Tuple((\n",
    "            spaces.Discrete(32),\n",
    "            spaces.Discrete(11),\n",
    "            spaces.Discrete(2)))\n",
    "        self.seed()\n",
    "\n",
    "        # Flag to payout 1.5 on a \"natural\" blackjack win, like casino rules\n",
    "        # Ref: http://www.bicyclecards.com/how-to-play/blackjack/\n",
    "        self.natural = natural\n",
    "        # Start the first game\n",
    "        self.reset()\n",
    "\n",
    "    def seed(self, seed=None):\n",
    "        self.np_random, seed = seeding.np_random(seed)\n",
    "        return [seed]\n",
    "\n",
    "    def step(self, action):\n",
    "        assert self.action_space.contains(action)\n",
    "        if action:  # hit: add a card to players hand and return\n",
    "            self.player.append(draw_card(self.np_random))\n",
    "            if is_bust(self.player):\n",
    "                done = True\n",
    "                reward = -1.\n",
    "            else:\n",
    "                done = False\n",
    "                reward = 0.\n",
    "        else:  # stick: play out the dealers hand, and score\n",
    "            done = True\n",
    "            while sum_hand(self.dealer) < 17:\n",
    "                self.dealer.append(draw_card(self.np_random))\n",
    "            reward = cmp(score(self.player), score(self.dealer))\n",
    "            if self.natural and is_natural(self.player) and reward == 1.:\n",
    "                reward = 1.5\n",
    "        return self._get_obs(), reward, done, {}\n",
    "\n",
    "    def _get_obs(self):\n",
    "        return (sum_hand(self.player), self.dealer[0], usable_ace(self.player))\n",
    "\n",
    "    def reset(self):\n",
    "        self.dealer = draw_hand(self.np_random)\n",
    "        self.player = draw_hand(self.np_random)\n",
    "        return self._get_obs()\n",
    "\n",
    "    # Define reset position function to start from an initial position\n",
    "\n",
    "    # def reset_init(self, hand_player, hand_dealer):\n",
    "    #TODO\n"
   ],
   "execution_count": 1,
   "outputs": []
  },
  {
   "cell_type": "code",
   "metadata": {
    "id": "W2pJLTyjAnJk"
   },
   "source": [
    "# Define the BlackJack env\n",
    "env = BlackjackEnv(gym.Env)\n",
    "\n",
    "# Play with it\n",
    "obs = env.reset()"
   ],
   "execution_count": 47,
   "outputs": []
  },
  {
   "cell_type": "code",
   "execution_count": 30,
   "outputs": [
    {
     "data": {
      "text/plain": "(10, 5, False)"
     },
     "execution_count": 30,
     "metadata": {},
     "output_type": "execute_result"
    }
   ],
   "source": [
    "obs"
   ],
   "metadata": {
    "collapsed": false,
    "pycharm": {
     "name": "#%%\n"
    }
   }
  },
  {
   "cell_type": "code",
   "execution_count": 31,
   "outputs": [
    {
     "data": {
      "text/plain": "((20, 5, False), 0.0, False, {})"
     },
     "execution_count": 31,
     "metadata": {},
     "output_type": "execute_result"
    }
   ],
   "source": [
    "env.step(1)"
   ],
   "metadata": {
    "collapsed": false,
    "pycharm": {
     "name": "#%%\n"
    }
   }
  },
  {
   "cell_type": "code",
   "execution_count": 32,
   "outputs": [
    {
     "data": {
      "text/plain": "((20, 5, False), 0.0, True, {})"
     },
     "execution_count": 32,
     "metadata": {},
     "output_type": "execute_result"
    }
   ],
   "source": [
    "env.step(0)"
   ],
   "metadata": {
    "collapsed": false,
    "pycharm": {
     "name": "#%%\n"
    }
   }
  },
  {
   "cell_type": "code",
   "execution_count": 33,
   "outputs": [
    {
     "data": {
      "text/plain": "[5, 5, 10]"
     },
     "execution_count": 33,
     "metadata": {},
     "output_type": "execute_result"
    }
   ],
   "source": [
    "env.dealer"
   ],
   "metadata": {
    "collapsed": false,
    "pycharm": {
     "name": "#%%\n"
    }
   }
  },
  {
   "cell_type": "markdown",
   "metadata": {
    "id": "VgSwnQpxJ8ZR"
   },
   "source": [
    "# Monte Carlo (MC) : Dealer vs. Random policy\n",
    "PREFERABLE TO NOT USE ACE !!!!!"
   ]
  },
  {
   "cell_type": "markdown",
   "metadata": {
    "id": "k9_Z6zw9KYqB"
   },
   "source": [
    "## In this part we will do MC prediction using dealer policy and compare it to the random one."
   ]
  },
  {
   "cell_type": "markdown",
   "metadata": {
    "id": "VbYTeOwxKvC9"
   },
   "source": [
    "### For random policy let's compute the value function for each state using Monte Carlo formula"
   ]
  },
  {
   "cell_type": "code",
   "execution_count": 48,
   "outputs": [
    {
     "data": {
      "text/plain": "<Figure size 500x800 with 2 Axes>",
      "image/png": "[encoded data removed]"
     },
     "metadata": {},
     "output_type": "display_data"
    }
   ],
   "source": [
    "import numpy\n",
    "import gym\n",
    "from matplotlib import pyplot\n",
    "import matplotlib.pyplot as plt\n",
    "from mpl_toolkits.mplot3d import Axes3D\n",
    "from collections import defaultdict\n",
    "from functools import partial\n",
    "%matplotlib inline\n",
    "\n",
    "plt.style.use('ggplot')\n",
    "\n",
    "## Blackjack Environment\n",
    "\n",
    "env.action_space, env.observation_space\n",
    "\n",
    "def sample_policy(observation):\n",
    "    score, dealer_score, usable_ace = observation\n",
    "    return 0 if score >= 20 else 1\n",
    "\n",
    "def generate_episode(policy, env):\n",
    "    states, actions, rewards = [], [], []\n",
    "    observation = env.reset()\n",
    "    while True:\n",
    "        states.append(observation)\n",
    "        action = sample_policy(observation)\n",
    "        actions.append(action)\n",
    "        observation, reward, done, info = env.step(action)\n",
    "        rewards.append(reward)\n",
    "        if done:\n",
    "            break\n",
    "\n",
    "    return states, actions, rewards\n",
    "\n",
    "\n",
    "def first_visit_mc_prediction(policy, env, n_episodes):\n",
    "    value_table = defaultdict(float)\n",
    "    N = defaultdict(int)\n",
    "\n",
    "    for _ in range(n_episodes):\n",
    "        states, _, rewards = generate_episode(policy, env)\n",
    "        returns = 0\n",
    "        for t in range(len(states) - 1, -1, -1):\n",
    "            R = rewards[t]\n",
    "            S = states[t]\n",
    "            returns += R\n",
    "            if S not in states[:t]:\n",
    "                N[S] += 1\n",
    "                value_table[S] += (returns - value_table[S]) / N[S]\n",
    "    return value_table\n",
    "\n",
    "def plot_blackjack(V, ax1, ax2):\n",
    "    player_sum = numpy.arange(12, 21 + 1)\n",
    "    dealer_show = numpy.arange(1, 10 + 1)\n",
    "    usable_ace = numpy.array([False, True])\n",
    "\n",
    "    state_values = numpy.zeros((len(player_sum),\n",
    "                                len(dealer_show),\n",
    "                                len(usable_ace)))\n",
    "\n",
    "    for i, player in enumerate(player_sum):\n",
    "        for j, dealer in enumerate(dealer_show):\n",
    "            for k, ace in enumerate(usable_ace):\n",
    "                state_values[i, j, k] = V[player, dealer, ace]\n",
    "\n",
    "    X, Y = numpy.meshgrid(player_sum, dealer_show)\n",
    "\n",
    "    ax1.plot_wireframe(X, Y, state_values[:, :, 0])\n",
    "    ax2.plot_wireframe(X, Y, state_values[:, :, 1])\n",
    "    for ax in ax1, ax2:\n",
    "        ax.set_zlim(-1, 1)\n",
    "        ax.set_ylabel('player sum')\n",
    "        ax.set_xlabel('dealer showing')\n",
    "        ax.set_zlabel('state-value')\n",
    "\n",
    "fig, axes = pyplot.subplots(nrows=2, figsize=(5, 8), subplot_kw={'projection': '3d'})\n",
    "axes[0].set_title('value function without usable ace')\n",
    "axes[1].set_title('value function with usable ace')\n",
    "\n",
    "value = first_visit_mc_prediction(sample_policy, env, n_episodes=500000)\n",
    "\n",
    "plot_blackjack(value, axes[0], axes[1])"
   ],
   "metadata": {
    "collapsed": false,
    "pycharm": {
     "name": "#%%\n"
    }
   }
  },
  {
   "cell_type": "code",
   "execution_count": 49,
   "outputs": [
    {
     "data": {
      "text/plain": "defaultdict(float,\n            {(17, 4, False): -0.689351331083616,\n             (15, 10, False): -0.6528216704288925,\n             (14, 10, False): -0.6334857906367233,\n             (13, 10, False): -0.6219779046805786,\n             (20, 10, False): 0.43490648253670233,\n             (16, 8, False): -0.6242517860590808,\n             (11, 8, False): -0.06373008434864098,\n             (18, 6, False): -0.6913914455874386,\n             (16, 10, False): -0.6824044662623945,\n             (16, 10, True): -0.37002703746620413,\n             (13, 10, True): -0.2998413537810679,\n             (12, 9, False): -0.5131103074141041,\n             (11, 9, False): -0.0438212094653814,\n             (13, 3, False): -0.5944201540703729,\n             (20, 2, False): 0.6404584221748384,\n             (10, 2, False): -0.11418880723572629,\n             (19, 8, False): -0.7313296903460839,\n             (19, 9, False): -0.7009544008483556,\n             (19, 7, False): -0.71581041968162,\n             (18, 7, False): -0.6982805429864251,\n             (13, 7, False): -0.5328559393428812,\n             (17, 3, False): -0.6881457824535044,\n             (21, 8, False): 0.9315873864243732,\n             (18, 10, False): -0.7289559957519527,\n             (13, 6, False): -0.5832456324984218,\n             (14, 9, False): -0.5844181854596431,\n             (13, 9, False): -0.54967320261438,\n             (18, 8, False): -0.6937329700272487,\n             (12, 8, False): -0.5111305106940196,\n             (6, 8, False): -0.48865355521936527,\n             (21, 5, True): 1.24429616874731,\n             (16, 5, True): -0.3580034423407916,\n             (14, 5, True): -0.264344262295082,\n             (12, 5, True): -0.2136363636363637,\n             (12, 3, False): -0.5314924691921509,\n             (11, 3, False): -0.0868040333187198,\n             (17, 2, False): -0.6970962231922568,\n             (13, 2, False): -0.5874052232518963,\n             (17, 1, False): -0.7551789077212799,\n             (16, 1, False): -0.73113854595336,\n             (12, 1, False): -0.6365859079795481,\n             (21, 6, True): 1.2545180722891571,\n             (19, 2, False): -0.7170618648600445,\n             (15, 2, False): -0.6385495443087053,\n             (11, 10, False): -0.11801524980084209,\n             (9, 10, False): -0.5459159397303712,\n             (17, 10, False): -0.7013048411497735,\n             (6, 10, False): -0.5541078537821205,\n             (15, 9, False): -0.624383223684212,\n             (17, 9, True): -0.37752161383285326,\n             (20, 3, False): 0.6506613756613752,\n             (19, 9, True): -0.41448931116389515,\n             (14, 6, False): -0.5929995929995924,\n             (5, 6, False): -0.4581395348837208,\n             (12, 7, False): -0.5265855221012168,\n             (18, 1, False): -0.7849822992360699,\n             (21, 6, False): 0.9003690036900364,\n             (16, 6, False): -0.6614942528735636,\n             (21, 5, False): 0.8928386092371559,\n             (16, 5, False): -0.6631701631701634,\n             (20, 9, False): 0.7569620253164557,\n             (18, 5, False): -0.701331414177763,\n             (17, 5, False): -0.6901620806634008,\n             (19, 10, True): -0.47129466900995876,\n             (20, 7, False): 0.7745809687211351,\n             (12, 10, False): -0.5735602962307909,\n             (21, 2, False): 0.8856831790963537,\n             (15, 10, True): -0.371252204585538,\n             (19, 5, False): -0.7073082489146173,\n             (14, 4, False): -0.6018080953359369,\n             (19, 10, False): -0.7411489495703838,\n             (18, 4, False): -0.7003148731246527,\n             (14, 5, False): -0.6167491749174905,\n             (18, 3, False): -0.713692196531792,\n             (14, 3, False): -0.5999585234342589,\n             (17, 9, False): -0.6658415841584164,\n             (16, 4, False): -0.652831652443755,\n             (6, 4, False): -0.5484804630969614,\n             (12, 6, False): -0.5483658697082695,\n             (19, 6, False): -0.7426378725682676,\n             (15, 6, False): -0.6415018167137658,\n             (20, 10, True): 0.422535211267605,\n             (21, 3, True): 1.2368649587494587,\n             (18, 3, True): -0.40835579514824805,\n             (11, 5, False): -0.07613535173642033,\n             (6, 5, False): -0.4698630136986306,\n             (10, 6, False): -0.14976839938239828,\n             (17, 8, False): -0.6710255931253502,\n             (20, 1, False): 0.15244474212993958,\n             (14, 1, False): -0.6913116123642439,\n             (10, 7, False): -0.058206607236497156,\n             (7, 7, False): -0.5445240532241556,\n             (17, 6, False): -0.6779026217228487,\n             (7, 6, False): -0.5333333333333342,\n             (14, 8, False): -0.5883575883575862,\n             (21, 9, True): 1.2974304068522509,\n             (16, 7, False): -0.6608745464960873,\n             (15, 7, False): -0.6214114832535886,\n             (8, 7, False): -0.5126984126984125,\n             (18, 2, False): -0.7174338013150888,\n             (20, 6, False): 0.6921949920085242,\n             (21, 10, True): 1.2377284317892032,\n             (20, 8, False): 0.7948478376935417,\n             (18, 10, True): -0.4320625610948186,\n             (15, 5, False): -0.6252983293556089,\n             (8, 5, False): -0.5747126436781599,\n             (21, 10, False): 0.8910655195234942,\n             (7, 10, False): -0.5539624608967653,\n             (17, 6, True): -0.3742514970059881,\n             (16, 3, False): -0.6611746462492731,\n             (9, 3, False): -0.5154702970297046,\n             (14, 2, False): -0.6319933692498962,\n             (12, 2, False): -0.5578202102553099,\n             (8, 10, False): -0.5772966410360171,\n             (4, 10, False): -0.5064935064935078,\n             (19, 1, False): -0.7944270160546215,\n             (8, 1, False): -0.6647446457990112,\n             (16, 2, False): -0.6625393081761016,\n             (16, 9, False): -0.6327586206896559,\n             (9, 8, False): -0.5243741765480897,\n             (13, 1, False): -0.6638487208008901,\n             (17, 7, False): -0.6684813215693625,\n             (20, 5, False): 0.6828408782867994,\n             (16, 3, True): -0.3093749999999995,\n             (21, 9, False): 0.9440738840430992,\n             (21, 7, False): 0.9274611398963738,\n             (16, 9, True): -0.37267080745341613,\n             (9, 6, False): -0.5287723785166251,\n             (21, 7, True): 1.2951063829787228,\n             (20, 4, True): 0.7101910828025474,\n             (11, 6, False): -0.056876456876456837,\n             (20, 8, True): 0.7965921192758245,\n             (21, 2, True): 1.2090637024369375,\n             (12, 5, False): -0.542212674543501,\n             (21, 4, True): 1.2430870821295943,\n             (10, 4, False): -0.09356725146198834,\n             (21, 4, False): 0.8845648172495397,\n             (15, 1, False): -0.7207778915046046,\n             (15, 4, False): -0.6337256493506522,\n             (17, 4, True): -0.4483695652173918,\n             (14, 4, True): -0.2825651302605209,\n             (19, 4, False): -0.7237787356321843,\n             (15, 3, False): -0.627549989901028,\n             (10, 3, False): -0.1285484734868774,\n             (14, 10, True): -0.35074987905176536,\n             (5, 2, False): -0.5507900677200904,\n             (14, 7, False): -0.5869338342725939,\n             (12, 4, False): -0.542894852617688,\n             (6, 7, False): -0.49527665317138947,\n             (10, 10, False): -0.20485462790077305,\n             (10, 5, False): -0.1486697965571202,\n             (18, 9, False): -0.6807062718410877,\n             (17, 10, True): -0.4418434528163862,\n             (13, 4, False): -0.5732885342293165,\n             (21, 3, False): 0.8771929824561411,\n             (19, 6, True): -0.4391657010428736,\n             (19, 3, False): -0.7104755220214063,\n             (6, 9, False): -0.5354223433242506,\n             (13, 8, False): -0.5306251315512522,\n             (20, 4, False): 0.672665177985026,\n             (19, 3, True): -0.49609810479375743,\n             (14, 3, True): -0.3326732673267325,\n             (8, 9, False): -0.5518606492478216,\n             (15, 6, True): -0.3047445255474452,\n             (19, 4, True): -0.45667447306791575,\n             (10, 9, False): -0.09110747408619739,\n             (15, 8, False): -0.6247987117552354,\n             (10, 8, False): -0.08847184986595164,\n             (15, 4, True): -0.32514177693761803,\n             (8, 3, False): -0.5601532567049811,\n             (14, 1, True): -0.4726562499999998,\n             (20, 7, True): 0.7817772778402706,\n             (16, 4, True): -0.3716108452950558,\n             (21, 8, True): 1.28842060451256,\n             (8, 6, False): -0.5373390557939914,\n             (7, 1, False): -0.6128342245989297,\n             (18, 4, True): -0.39668367346938777,\n             (9, 4, False): -0.54263053536021,\n             (14, 2, True): -0.3504761904761905,\n             (16, 1, True): -0.41262135922330073,\n             (21, 1, False): 0.6458390931711344,\n             (7, 4, False): -0.5462962962962967,\n             (9, 7, False): -0.5211176088369072,\n             (9, 2, False): -0.5244444444444445,\n             (6, 2, False): -0.5108853410740203,\n             (15, 9, True): -0.33333333333333337,\n             (20, 9, True): 0.7500000000000006,\n             (7, 5, False): -0.500508646998983,\n             (9, 9, False): -0.5132634176434298,\n             (11, 7, False): -0.05825242718446605,\n             (13, 7, True): -0.214132762312634,\n             (7, 9, False): -0.5202127659574474,\n             (18, 8, True): -0.4339887640449439,\n             (20, 5, True): 0.6702127659574459,\n             (11, 2, False): -0.11227749885896858,\n             (9, 1, False): -0.6332247557003254,\n             (13, 5, False): -0.5723310170562228,\n             (4, 4, False): -0.47926267281106,\n             (20, 6, True): 0.7250821467688946,\n             (7, 8, False): -0.519441674975075,\n             (15, 7, True): -0.3061946902654866,\n             (5, 7, False): -0.5548523206751046,\n             (14, 9, True): -0.17623762376237628,\n             (15, 3, True): -0.3082437275985668,\n             (11, 1, False): -0.24597701149425327,\n             (4, 1, False): -0.6292682926829273,\n             (12, 10, True): -0.3406940063091484,\n             (13, 8, True): -0.23542116630669557,\n             (13, 5, True): -0.2629482071713147,\n             (19, 8, True): -0.4205495818399045,\n             (19, 5, True): -0.4110854503464198,\n             (20, 2, True): 0.680459770114942,\n             (15, 2, True): -0.40390879478827346,\n             (21, 1, True): 0.8942547876769378,\n             (8, 2, False): -0.5977291159772903,\n             (17, 3, True): -0.37853107344632775,\n             (6, 3, False): -0.4958563535911604,\n             (13, 6, True): -0.29844097995545665,\n             (12, 6, True): -0.29090909090909095,\n             (15, 5, True): -0.3653846153846157,\n             (9, 5, False): -0.5155938951559391,\n             (10, 1, False): -0.33812566560170504,\n             (11, 4, False): -0.04547585560243787,\n             (13, 3, True): -0.3115789473684206,\n             (4, 2, False): -0.4349775784753363,\n             (14, 6, True): -0.26326129666011827,\n             (16, 7, True): -0.3306320907617506,\n             (18, 7, True): -0.36375,\n             (17, 1, True): -0.5113636363636366,\n             (19, 2, True): -0.4420935412026726,\n             (5, 1, False): -0.5895691609977327,\n             (15, 8, True): -0.2743362831858407,\n             (20, 3, True): 0.6799163179916314,\n             (5, 8, False): -0.49464668094218406,\n             (8, 8, False): -0.49755700325732843,\n             (13, 4, True): -0.2943722943722942,\n             (8, 4, False): -0.5404503753127615,\n             (7, 3, False): -0.5148936170212766,\n             (17, 5, True): -0.417503586800574,\n             (18, 6, True): -0.4005134788189988,\n             (18, 9, True): -0.38919667590027707,\n             (19, 7, True): -0.40163934426229464,\n             (17, 7, True): -0.3769559032716926,\n             (18, 2, True): -0.4155672823218999,\n             (12, 4, True): -0.28070175438596506,\n             (12, 9, True): -0.15596330275229364,\n             (15, 1, True): -0.4593128390596746,\n             (20, 1, True): 0.1593886462882096,\n             (7, 2, False): -0.511602209944751,\n             (5, 10, False): -0.5205479452054798,\n             (16, 2, True): -0.4285714285714285,\n             (12, 8, True): -0.21171171171171171,\n             (18, 5, True): -0.44177215189873437,\n             (6, 1, False): -0.5750332005312083,\n             (5, 4, False): -0.4791666666666668,\n             (17, 2, True): -0.4246771879483501,\n             (16, 6, True): -0.3434190620272316,\n             (4, 9, False): -0.49372384937238456,\n             (16, 8, True): -0.3609375,\n             (13, 2, True): -0.30607966457023084,\n             (18, 1, True): -0.5319426336375486,\n             (4, 3, False): -0.5284552845528456,\n             (14, 7, True): -0.24505928853754944,\n             (5, 5, False): -0.473469387755102,\n             (17, 8, True): -0.34109589041095867,\n             (4, 7, False): -0.5040983606557377,\n             (6, 6, False): -0.4937586685159501,\n             (5, 3, False): -0.5315904139433552,\n             (13, 1, True): -0.45676274944567585,\n             (13, 9, True): -0.15681818181818166,\n             (14, 8, True): -0.3017621145374447,\n             (5, 9, False): -0.5260869565217388,\n             (12, 2, True): -0.3422222222222223,\n             (12, 7, True): -0.27876106194690264,\n             (19, 1, True): -0.6085918854415274,\n             (12, 3, True): -0.18385650224215228,\n             (4, 8, False): -0.49773755656108604,\n             (12, 1, True): -0.32034632034632005,\n             (4, 5, False): -0.5277777777777779,\n             (4, 6, False): -0.41869918699187003})"
     },
     "execution_count": 49,
     "metadata": {},
     "output_type": "execute_result"
    }
   ],
   "source": [
    "value"
   ],
   "metadata": {
    "collapsed": false,
    "pycharm": {
     "name": "#%%\n"
    }
   }
  },
  {
   "cell_type": "code",
   "execution_count": 34,
   "outputs": [],
   "source": [
    "import sys\n",
    "from collections import defaultdict\n",
    "\n",
    "def mc_prediction(policy, env, num_episodes, discount_factor=1.0):\n",
    "\n",
    "    returns_sum = defaultdict(float)\n",
    "    returns_count = defaultdict(float)\n",
    "\n",
    "    # The final value function\n",
    "    V = defaultdict(float)\n",
    "\n",
    "    for i_episode in range(1, num_episodes + 1):\n",
    "        # Print out which episode we're on, useful for debugging.\n",
    "        if i_episode % 1000 == 0:\n",
    "            print(\"\\rEpisode {}/{}.\".format(i_episode, num_episodes), end=\"\")\n",
    "            sys.stdout.flush()\n",
    "\n",
    "        # Generate an episode.\n",
    "        # An episode is an array of (state, action, reward) tuples\n",
    "        episode = []\n",
    "        state = env.reset()\n",
    "        for t in range(100):\n",
    "            action = policy(state)\n",
    "            next_state, reward, done, _ = env.step(action)\n",
    "            episode.append((state, action, reward))\n",
    "            if done:\n",
    "                break\n",
    "            state = next_state\n",
    "\n",
    "        # Find all states the we've visited in this episode\n",
    "        # We convert each state to a tuple so that we can use it as a dict key\n",
    "        states_in_episode = set([tuple(x[0]) for x in episode])\n",
    "        for state in states_in_episode:\n",
    "            # Find the first occurance of the state in the episode\n",
    "            first_occurence_idx = next(i for i,x in enumerate(episode) if x[0] == state)\n",
    "            # Sum up all rewards since the first occurance\n",
    "            G = sum([x[2]*(discount_factor**i) for i,x in enumerate(episode[first_occurence_idx:])])\n",
    "            # Calculate average return for this state over all sampled episodes\n",
    "            returns_sum[state] += G\n",
    "            returns_count[state] += 1.0\n",
    "            V[state] = returns_sum[state] / returns_count[state]\n",
    "\n",
    "    return V"
   ],
   "metadata": {
    "collapsed": false,
    "pycharm": {
     "name": "#%%\n"
    }
   }
  },
  {
   "cell_type": "code",
   "execution_count": 35,
   "outputs": [],
   "source": [
    "def sample_policy(observation):\n",
    "    score, dealer_score, usable_ace = observation\n",
    "    return 0 if score >= 20 else 1"
   ],
   "metadata": {
    "collapsed": false,
    "pycharm": {
     "name": "#%%\n"
    }
   }
  },
  {
   "cell_type": "code",
   "execution_count": 38,
   "outputs": [
    {
     "name": "stdout",
     "output_type": "stream",
     "text": [
      "Episode 10000/10000."
     ]
    }
   ],
   "source": [
    "V_10k = mc_prediction(sample_policy, env, 10000)"
   ],
   "metadata": {
    "collapsed": false,
    "pycharm": {
     "name": "#%%\n"
    }
   }
  },
  {
   "cell_type": "code",
   "execution_count": 39,
   "outputs": [
    {
     "data": {
      "text/plain": "defaultdict(float,\n            {(19, 1, False): -0.8977272727272727,\n             (19, 10, False): -0.7180616740088106,\n             (21, 10, True): 1.223756906077348,\n             (13, 4, False): -0.5564516129032258,\n             (17, 4, False): -0.5495495495495496,\n             (12, 4, False): -0.5979381443298969,\n             (19, 6, False): -0.792,\n             (9, 6, False): -0.75,\n             (16, 9, False): -0.7019230769230769,\n             (18, 9, False): -0.6140350877192983,\n             (18, 8, False): -0.75,\n             (8, 8, False): -0.52,\n             (15, 10, False): -0.6074270557029178,\n             (15, 5, False): -0.6122448979591837,\n             (13, 5, False): -0.5794392523364486,\n             (14, 10, False): -0.6498740554156172,\n             (17, 10, False): -0.7367149758454107,\n             (20, 9, False): 0.8383233532934131,\n             (12, 9, False): -0.4606741573033708,\n             (17, 3, False): -0.7398373983739838,\n             (21, 3, False): 0.918918918918919,\n             (16, 10, False): -0.7233009708737864,\n             (21, 3, True): 1.2156862745098038,\n             (10, 5, False): -0.2222222222222222,\n             (18, 5, False): -0.7383177570093458,\n             (16, 5, False): -0.5897435897435898,\n             (20, 5, False): 0.6688741721854304,\n             (18, 2, False): -0.7217391304347827,\n             (16, 2, False): -0.6886792452830188,\n             (18, 10, False): -0.6972704714640199,\n             (6, 10, False): -0.6029411764705882,\n             (11, 10, False): -0.14444444444444443,\n             (15, 9, False): -0.7176470588235294,\n             (12, 10, False): -0.5860215053763441,\n             (18, 4, False): -0.6565656565656566,\n             (11, 4, False): -0.047619047619047616,\n             (15, 4, False): -0.5955056179775281,\n             (20, 2, False): 0.6265822784810127,\n             (20, 3, False): 0.5746268656716418,\n             (21, 7, False): 0.9696969696969697,\n             (11, 7, False): -0.07142857142857142,\n             (21, 2, True): 1.1206896551724137,\n             (11, 8, False): -0.19148936170212766,\n             (16, 8, False): -0.7666666666666667,\n             (14, 8, False): -0.6304347826086957,\n             (12, 3, False): -0.5053763440860215,\n             (20, 7, False): 0.6933333333333334,\n             (13, 3, False): -0.5949367088607594,\n             (5, 10, False): -0.36666666666666664,\n             (15, 3, False): -0.5853658536585366,\n             (14, 8, True): 0.3,\n             (17, 8, False): -0.7452830188679245,\n             (17, 8, True): -0.38461538461538464,\n             (15, 3, True): 0.0,\n             (20, 10, False): 0.4643423137876387,\n             (18, 7, False): -0.6292134831460674,\n             (15, 7, False): -0.6666666666666666,\n             (21, 4, True): 1.2564102564102564,\n             (16, 4, True): -0.8333333333333334,\n             (19, 4, False): -0.6818181818181818,\n             (8, 10, False): -0.6730769230769231,\n             (21, 8, False): 0.9090909090909091,\n             (20, 8, True): 0.6666666666666666,\n             (19, 5, False): -0.8817204301075269,\n             (16, 1, False): -0.6696428571428571,\n             (10, 1, False): -0.3333333333333333,\n             (21, 1, True): 0.8947368421052632,\n             (14, 1, False): -0.7830188679245284,\n             (20, 6, False): 0.6956521739130435,\n             (21, 6, True): 1.1666666666666667,\n             (12, 2, False): -0.5483870967741935,\n             (17, 9, False): -0.6538461538461539,\n             (13, 9, False): -0.48,\n             (20, 8, False): 0.8029197080291971,\n             (14, 9, False): -0.5657894736842105,\n             (21, 4, False): 0.8985507246376812,\n             (19, 8, False): -0.6190476190476191,\n             (10, 10, False): -0.19718309859154928,\n             (13, 2, False): -0.5952380952380952,\n             (10, 8, False): -0.3170731707317073,\n             (17, 4, True): -0.6428571428571429,\n             (8, 2, False): -0.5666666666666667,\n             (20, 1, False): 0.041666666666666664,\n             (21, 5, True): 1.3333333333333333,\n             (13, 8, False): -0.5048543689320388,\n             (13, 1, False): -0.6574074074074074,\n             (18, 3, False): -0.6881720430107527,\n             (14, 3, False): -0.6494845360824743,\n             (19, 9, False): -0.6956521739130435,\n             (19, 10, True): -0.5396825396825397,\n             (7, 10, False): -0.36470588235294116,\n             (9, 10, False): -0.5087719298245614,\n             (20, 10, True): 0.5487804878048781,\n             (16, 4, False): -0.7575757575757576,\n             (12, 4, True): -0.6,\n             (19, 4, True): -0.15789473684210525,\n             (13, 2, True): -0.1,\n             (16, 6, False): -0.6057692307692307,\n             (18, 6, False): -0.6752136752136753,\n             (13, 6, False): -0.6542056074766355,\n             (11, 1, False): -0.3695652173913043,\n             (12, 8, False): -0.5052631578947369,\n             (14, 2, False): -0.6095238095238096,\n             (17, 1, False): -0.7676767676767676,\n             (12, 1, False): -0.5609756097560976,\n             (13, 10, False): -0.6483180428134556,\n             (9, 9, False): -0.6170212765957447,\n             (13, 10, True): -0.1794871794871795,\n             (15, 4, True): -0.2777777777777778,\n             (6, 2, False): -0.6666666666666666,\n             (15, 1, False): -0.7078651685393258,\n             (18, 1, False): -0.7837837837837838,\n             (9, 5, False): -0.25925925925925924,\n             (8, 5, False): -0.7948717948717948,\n             (15, 9, True): -0.7272727272727273,\n             (10, 7, False): -0.1,\n             (8, 7, False): -0.3333333333333333,\n             (16, 8, True): -0.42857142857142855,\n             (5, 8, False): -0.4444444444444444,\n             (14, 4, False): -0.6043956043956044,\n             (17, 6, False): -0.7459016393442623,\n             (21, 9, True): 1.302325581395349,\n             (19, 5, True): -0.5882352941176471,\n             (21, 6, False): 0.8648648648648649,\n             (18, 6, True): -0.36363636363636365,\n             (6, 5, False): -0.47368421052631576,\n             (21, 10, False): 0.8915254237288136,\n             (16, 7, False): -0.6548672566371682,\n             (19, 3, False): -0.6633663366336634,\n             (10, 3, False): 0.05714285714285714,\n             (17, 2, False): -0.7403846153846154,\n             (16, 3, False): -0.6320754716981132,\n             (21, 8, True): 1.3289473684210527,\n             (18, 9, True): -0.6666666666666666,\n             (8, 4, False): -0.8,\n             (5, 3, False): -0.6666666666666666,\n             (18, 10, True): -0.463768115942029,\n             (14, 10, True): -0.20454545454545456,\n             (13, 4, True): -0.25,\n             (20, 4, True): 0.6785714285714286,\n             (19, 3, True): -0.2857142857142857,\n             (9, 3, False): -0.4838709677419355,\n             (21, 9, False): 0.9594594594594594,\n             (20, 4, False): 0.7066666666666667,\n             (13, 7, False): -0.5402298850574713,\n             (19, 9, True): -0.13636363636363635,\n             (14, 9, True): 0.15384615384615385,\n             (20, 9, True): 0.85,\n             (14, 6, False): -0.625,\n             (17, 6, True): -0.3333333333333333,\n             (14, 7, False): -0.6309523809523809,\n             (7, 1, False): -0.4166666666666667,\n             (9, 1, False): -0.7857142857142857,\n             (15, 8, False): -0.6835443037974683,\n             (15, 8, True): 0.0,\n             (17, 7, False): -0.7572815533980582,\n             (4, 10, False): -0.5,\n             (15, 6, False): -0.7217391304347827,\n             (11, 5, False): -0.2826086956521739,\n             (21, 5, False): 0.8985507246376812,\n             (21, 1, False): 0.6388888888888888,\n             (11, 9, False): -0.08620689655172414,\n             (21, 2, False): 0.935064935064935,\n             (18, 1, True): -0.38461538461538464,\n             (19, 7, False): -0.7524752475247525,\n             (10, 9, False): 0.14634146341463414,\n             (12, 10, True): -0.4583333333333333,\n             (16, 10, True): -0.04,\n             (19, 2, False): -0.7788461538461539,\n             (11, 2, False): -0.046511627906976744,\n             (16, 6, True): -0.5625,\n             (8, 6, False): -0.6,\n             (10, 6, False): -0.10256410256410256,\n             (14, 4, True): -1.0,\n             (4, 2, False): 0.3333333333333333,\n             (17, 5, False): -0.6033057851239669,\n             (14, 5, False): -0.5789473684210527,\n             (12, 7, False): -0.4444444444444444,\n             (11, 6, False): -0.32,\n             (11, 3, False): 0.03225806451612903,\n             (18, 2, True): -0.4666666666666667,\n             (8, 1, False): -0.8148148148148148,\n             (15, 2, False): -0.7254901960784313,\n             (18, 4, True): -0.18181818181818182,\n             (15, 10, True): -0.2553191489361702,\n             (6, 3, False): -0.3333333333333333,\n             (12, 6, False): -0.5294117647058824,\n             (12, 6, True): -0.5,\n             (13, 6, True): -0.5,\n             (12, 5, False): -0.47126436781609193,\n             (20, 1, True): 0.1111111111111111,\n             (17, 1, True): -0.75,\n             (20, 2, True): 0.7727272727272727,\n             (7, 2, False): -0.38095238095238093,\n             (13, 9, True): -0.6,\n             (17, 10, True): -0.3050847457627119,\n             (6, 8, False): -0.42857142857142855,\n             (10, 4, False): -0.3448275862068966,\n             (18, 8, True): -0.25,\n             (7, 8, False): -0.5625,\n             (17, 3, True): -0.625,\n             (7, 5, False): -0.75,\n             (15, 7, True): -0.42857142857142855,\n             (16, 1, True): -0.25,\n             (15, 1, True): -0.8,\n             (19, 7, True): -0.4444444444444444,\n             (9, 8, False): -0.5,\n             (7, 9, False): -0.5454545454545454,\n             (18, 5, True): -0.125,\n             (19, 8, True): -0.2222222222222222,\n             (17, 7, True): -0.38461538461538464,\n             (21, 7, True): 1.3676470588235294,\n             (5, 5, False): -0.125,\n             (17, 5, True): -0.7777777777777778,\n             (13, 5, True): -0.7333333333333333,\n             (9, 7, False): -0.5135135135135135,\n             (9, 4, False): -0.5135135135135135,\n             (20, 5, True): 0.375,\n             (19, 2, True): -0.2,\n             (6, 9, False): -1.0,\n             (7, 4, False): -0.4117647058823529,\n             (9, 2, False): -0.5135135135135135,\n             (5, 2, False): -0.6,\n             (14, 3, True): -0.125,\n             (20, 3, True): 0.5625,\n             (16, 3, True): -0.4666666666666667,\n             (6, 6, False): -0.5,\n             (10, 2, False): -0.05405405405405406,\n             (18, 3, True): -0.5,\n             (7, 6, False): -0.6666666666666666,\n             (14, 6, True): -0.09090909090909091,\n             (17, 2, True): -0.23529411764705882,\n             (7, 7, False): -0.25,\n             (14, 1, True): -0.3125,\n             (13, 8, True): 0.23076923076923078,\n             (16, 2, True): 0.25,\n             (14, 2, True): -0.07692307692307693,\n             (5, 1, False): -0.9,\n             (20, 7, True): 0.7647058823529411,\n             (17, 9, True): -0.45454545454545453,\n             (6, 1, False): -0.5,\n             (16, 5, True): -0.17647058823529413,\n             (5, 9, False): -0.09090909090909091,\n             (14, 7, True): -0.38461538461538464,\n             (7, 3, False): -0.2,\n             (6, 7, False): -0.4444444444444444,\n             (15, 5, True): -0.25,\n             (14, 5, True): -0.6666666666666666,\n             (19, 6, True): -0.043478260869565216,\n             (6, 4, False): -0.5833333333333334,\n             (15, 2, True): -0.1111111111111111,\n             (19, 1, True): -1.0,\n             (4, 3, False): -0.3,\n             (18, 7, True): -0.1111111111111111,\n             (13, 3, True): 0.1111111111111111,\n             (8, 3, False): -0.75,\n             (8, 9, False): -0.5,\n             (12, 9, True): 1.0,\n             (4, 5, False): -0.75,\n             (20, 6, True): 0.7142857142857143,\n             (12, 5, True): 0.0,\n             (15, 6, True): -0.75,\n             (16, 9, True): -0.3333333333333333,\n             (5, 4, False): -0.3333333333333333,\n             (16, 7, True): -0.14285714285714285,\n             (4, 8, False): -0.6666666666666666,\n             (13, 7, True): -0.1,\n             (13, 1, True): -0.6666666666666666,\n             (5, 6, False): -0.7142857142857143,\n             (4, 9, False): -0.5,\n             (4, 7, False): -0.3333333333333333,\n             (12, 8, True): -0.5,\n             (4, 1, False): -0.5,\n             (12, 7, True): 0.0,\n             (5, 7, False): -1.0,\n             (12, 1, True): 0.2857142857142857,\n             (4, 6, False): 0.0,\n             (4, 4, False): -0.6666666666666666,\n             (12, 2, True): -0.2,\n             (12, 3, True): -0.5})"
     },
     "execution_count": 39,
     "metadata": {},
     "output_type": "execute_result"
    }
   ],
   "source": [
    "V_10k"
   ],
   "metadata": {
    "collapsed": false,
    "pycharm": {
     "name": "#%%\n"
    }
   }
  },
  {
   "cell_type": "code",
   "metadata": {
    "id": "TfcwcbhFA341"
   },
   "source": [
    "# Initialize value function \n",
    "player_states_size = defaultdict(float)\n",
    "dealer_states_size = defaultdict(float)\n",
    "value_func_mc_random = defaultdict(float)"
   ],
   "execution_count": 40,
   "outputs": []
  },
  {
   "cell_type": "code",
   "execution_count": 41,
   "outputs": [
    {
     "data": {
      "text/plain": "defaultdict(float, {})"
     },
     "execution_count": 41,
     "metadata": {},
     "output_type": "execute_result"
    }
   ],
   "source": [
    "player_states_size"
   ],
   "metadata": {
    "collapsed": false,
    "pycharm": {
     "name": "#%%\n"
    }
   }
  },
  {
   "cell_type": "code",
   "execution_count": null,
   "outputs": [],
   "source": [
    "def mc_prediction(policy, env, num_episodes, discount_factor=1.0):\n",
    "\n",
    "    returns_sum = defaultdict(float)\n",
    "    returns_count = defaultdict(float)\n",
    "\n",
    "    # The final value function\n",
    "    V = defaultdict(float)\n",
    "\n",
    "    for i_episode in range(1, num_episodes + 1):\n",
    "        # Print out which episode we're on, useful for debugging.\n",
    "        if i_episode % 1000 == 0:\n",
    "            print(\"\\rEpisode {}/{}.\".format(i_episode, num_episodes), end=\"\")\n",
    "            sys.stdout.flush()\n",
    "\n",
    "        # Generate an episode.\n",
    "        # An episode is an array of (state, action, reward) tuples\n",
    "        episode = []\n",
    "        state = env.reset()\n",
    "        for t in range(100):\n",
    "            action = policy(state)\n",
    "            next_state, reward, done, _ = env.step(action)\n",
    "            episode.append((state, action, reward))\n",
    "            if done:\n",
    "                break\n",
    "            state = next_state\n",
    "\n",
    "        # Find all states the we've visited in this episode\n",
    "        # We convert each state to a tuple so that we can use it as a dict key\n",
    "        states_in_episode = set([tuple(x[0]) for x in episode])\n",
    "        for state in states_in_episode:\n",
    "            # Find the first occurance of the state in the episode\n",
    "            first_occurence_idx = next(i for i,x in enumerate(episode) if x[0] == state)\n",
    "            # Sum up all rewards since the first occurance\n",
    "            G = sum([x[2]*(discount_factor**i) for i,x in enumerate(episode[first_occurence_idx:])])\n",
    "            # Calculate average return for this state over all sampled episodes\n",
    "            returns_sum[state] += G\n",
    "            returns_count[state] += 1.0\n",
    "            V[state] = returns_sum[state] / returns_count[state]\n",
    "\n",
    "    return V"
   ],
   "metadata": {
    "collapsed": false,
    "pycharm": {
     "name": "#%%\n"
    }
   }
  },
  {
   "cell_type": "code",
   "metadata": {
    "id": "kWb4jdqTA8x8"
   },
   "source": [
    "# For each state run 1000 iterations with random policy and compute the mean reward\n",
    "# !!!!!! You should modify the BlackJackEnv to start from a particular state\n",
    "\n",
    "nb_iteration = 10000\n",
    "\n",
    "# Iteration over all possible states\n"
   ],
   "execution_count": null,
   "outputs": []
  },
  {
   "cell_type": "code",
   "metadata": {
    "id": "GAS08CIaBkvn"
   },
   "source": [
    "# To plot in 3D we have to create X and Y matrix\n",
    "X = np.zeros((dealer_states_size, player_states_size))\n",
    "Y = np.zeros((dealer_states_size, player_states_size))\n",
    "\n",
    "for i in range(dealer_states_size):\n",
    "  X[i,:] = i+1\n",
    "\n",
    "for j in range(player_states_size):\n",
    "  Y[:,j] = j+2\n",
    "\n",
    "fig = plt.figure()\n",
    "ax = fig.gca(projection='3d')\n",
    "\n",
    "# Plot the surface.\n",
    "surf = ax.plot_surface(X, Y, value_func_mc_random, cmap=cm.coolwarm,\n",
    "                       linewidth=0, antialiased=False)"
   ],
   "execution_count": null,
   "outputs": []
  },
  {
   "cell_type": "markdown",
   "metadata": {
    "id": "0IPxOz96L7mc"
   },
   "source": [
    "### For dealer policy let's compute the value function for each state using Monte Carlo formula"
   ]
  },
  {
   "cell_type": "code",
   "metadata": {
    "id": "hQ3A-ItRA92r"
   },
   "source": [
    "# Initialize value function \n",
    "value_func_mc_dealer = "
   ],
   "execution_count": null,
   "outputs": []
  },
  {
   "cell_type": "code",
   "metadata": {
    "id": "Plo40BwDMJ8b"
   },
   "source": [
    "# For each state run 1000 iterations with dealer policy and compute the mean reward\n",
    "# !!!!!! You should modify the BlackJackEnv to start from a particular state\n",
    "\n",
    "nb_iteration = 10000\n",
    "\n",
    "\n"
   ],
   "execution_count": null,
   "outputs": []
  },
  {
   "cell_type": "code",
   "metadata": {
    "id": "pGAAXwMyB3MA"
   },
   "source": [
    "# Plot the surface for dealer policy\n",
    "surf = ax.plot_surface(X, Y, value_func_mc_dealer, cmap=cm.coolwarm,\n",
    "                       linewidth=0, antialiased=False)"
   ],
   "execution_count": null,
   "outputs": []
  },
  {
   "cell_type": "code",
   "metadata": {
    "id": "1BrTGFOnMVhs"
   },
   "source": [
    "# Compare both \n",
    "value_diff = value_func_mc_dealer - value_func_mc_random"
   ],
   "execution_count": null,
   "outputs": []
  },
  {
   "cell_type": "code",
   "metadata": {
    "id": "s8Q5HtO9ojMb"
   },
   "source": [
    "# Plot the surface difference\n",
    "surf = ax.plot_surface(X, Y, value_diff, cmap=cm.coolwarm,\n",
    "                       linewidth=0, antialiased=False)"
   ],
   "execution_count": null,
   "outputs": []
  },
  {
   "cell_type": "code",
   "metadata": {
    "id": "aa9Wb6fTkM04"
   },
   "source": [
    "# To check only when random policy is better than dealer policy\n",
    "value_diff_zero = np.zeros((dealer_states_size,player_states_size))\n",
    "for i in range(dealer_states_size):\n",
    "  for j in range(player_states_size):\n",
    "    value_diff_zero[i,j] = min(0,value_diff[i,j])"
   ],
   "execution_count": null,
   "outputs": []
  },
  {
   "cell_type": "code",
   "metadata": {
    "id": "CcdJYvF0kXyI"
   },
   "source": [
    "# Plot the surface for value_diff_zero.\n",
    "surf = ax.plot_surface(X, Y, value_diff_zero, cmap=cm.coolwarm,\n",
    "                       linewidth=0, antialiased=False)"
   ],
   "execution_count": null,
   "outputs": []
  },
  {
   "cell_type": "markdown",
   "metadata": {
    "id": "ZyZWN9wbj7zs"
   },
   "source": [
    "# Temporal Difference (TD) : Dealer vs. Random policy\n",
    "PREFERABLE TO NOT USE ACE !!!!!"
   ]
  },
  {
   "cell_type": "markdown",
   "metadata": {
    "id": "9H_IMXdIkNWI"
   },
   "source": [
    "## In this part we will do TD prediction using dealer policy and compare it to the random one."
   ]
  },
  {
   "cell_type": "markdown",
   "metadata": {
    "id": "cVis1PVRlENI"
   },
   "source": [
    "### For random policy let's compute the value function for each state using TD formula"
   ]
  },
  {
   "cell_type": "code",
   "metadata": {
    "id": "7gdI5aFvoF1r"
   },
   "source": [
    "# Parameters for TD\n",
    "alpha = 1\n",
    "gamma = 0.9"
   ],
   "execution_count": null,
   "outputs": []
  },
  {
   "cell_type": "code",
   "metadata": {
    "id": "y8uCwYzyj7cS"
   },
   "source": [
    "# Initialize action value function \n",
    "# HERE YOU MUST TAKE INTO ACCOUNT THE DEALER HAND\n",
    "value_func_td_random = #TODO"
   ],
   "execution_count": null,
   "outputs": []
  },
  {
   "cell_type": "code",
   "metadata": {
    "id": "L97fGeG7Cm6Y",
    "colab": {
     "base_uri": "https://localhost:8080/"
    },
    "executionInfo": {
     "status": "ok",
     "timestamp": 1611227280808,
     "user_tz": -60,
     "elapsed": 482,
     "user": {
      "displayName": "Waïl BENFATMA",
      "photoUrl": "https://lh3.googleusercontent.com/a-/AOh14GglClVYCXVnN8XbGIM-h7VIpWA0Xjxqs3NhxdQW=s64",
      "userId": "07362182303906326314"
     }
    },
    "outputId": "6070f2f7-cfd0-49af-cb26-4548da6f5c10"
   },
   "source": [
    "# Play only one step and update TD\n",
    "\n",
    "\n",
    "# Start from one random position\n",
    "env.reset()\n",
    "\n",
    "# Take one random action\n",
    "\n",
    "\n",
    "# Update for one step your value_func_td_random matrix according to the formula Main formula of TD(1)\n",
    "# V(St) <- V(St ) +  α(Rt+1+ γV(St+1) - V(St))\n",
    "\n",
    "\n",
    "# Update value_func_td_random\n"
   ],
   "execution_count": null,
   "outputs": [
    {
     "output_type": "execute_result",
     "data": {
      "text/plain": [
       "(14, 7, False)"
      ]
     },
     "metadata": {
      "tags": []
     },
     "execution_count": 78
    }
   ]
  },
  {
   "cell_type": "code",
   "metadata": {
    "id": "D5LuKjAgTmiX"
   },
   "source": [
    "# Copy paste you code for one step and play ONE GAME (ie until the end of the episod)\n",
    "\n",
    "env.reset()\n",
    "done = False\n",
    "# We play util finish the game\n",
    "while (not done):\n",
    "  # TODO\n",
    "  \n"
   ],
   "execution_count": null,
   "outputs": []
  },
  {
   "cell_type": "code",
   "metadata": {
    "id": "XgI9G5QsrUGC"
   },
   "source": [
    "# Copy paste you code ONE GAME and do i for 1000000 iterations\n",
    "\n",
    "for i in range(1000000):\n",
    "  env.reset()\n",
    "  done = False\n",
    "  # We play util finish the game\n",
    "  while (not done):\n",
    "    # TODO\n",
    "  "
   ],
   "execution_count": null,
   "outputs": []
  },
  {
   "cell_type": "code",
   "metadata": {
    "id": "IvSN5XuqkyQ5"
   },
   "source": [
    "# Plot the surface."
   ],
   "execution_count": null,
   "outputs": []
  },
  {
   "cell_type": "markdown",
   "metadata": {
    "id": "SFFxJleUk7nk"
   },
   "source": [
    "### For dealer policy let's compute the value function for each state using TD formula"
   ]
  },
  {
   "cell_type": "code",
   "metadata": {
    "id": "NZbmic2Zk54h"
   },
   "source": [
    "# Initialize value function \n",
    "value_func_td_dealer = #TODO"
   ],
   "execution_count": null,
   "outputs": []
  },
  {
   "cell_type": "code",
   "metadata": {
    "id": "UfNY4uVclP4g"
   },
   "source": [
    "# Play about 1000000 games with random policy and compute value function for TD\n"
   ],
   "execution_count": null,
   "outputs": []
  },
  {
   "cell_type": "code",
   "metadata": {
    "id": "WV7NbR5HlRw0"
   },
   "source": [
    "# Plot and compare function"
   ],
   "execution_count": null,
   "outputs": []
  },
  {
   "cell_type": "markdown",
   "metadata": {
    "id": "2iCZvkQPlYb0"
   },
   "source": [
    "## SARSA and Q-learning"
   ]
  },
  {
   "cell_type": "markdown",
   "metadata": {
    "id": "VFIefgN_wJOf"
   },
   "source": [
    "### Let's implement epsilon-greedy policy function"
   ]
  },
  {
   "cell_type": "code",
   "metadata": {
    "id": "J3HlJKq2wUXy"
   },
   "source": [
    "\n",
    "# Suppose you are at state S, with action_value_function Q : action_value_func_td_eps_greedy\n",
    "# Define epsilon-greedy function\n",
    "\n",
    "def make_epsilon_greedy_policy(Q, epsilon, nA):\n",
    "    \"\"\"\n",
    "    Creates an epsilon-greedy policy based on a given Q-function and epsilon.\n",
    "    \n",
    "    Args:\n",
    "        Q: The matrix of action value function\n",
    "            Q[dealer_hand, player_hand, action]\n",
    "        \n",
    "        epsilon: The probability to select a random action . float between 0 and 1.\n",
    "    \n",
    "    Returns:\n",
    "        Action 0 or 1\n",
    "        \n",
    "    \"\"\"\n",
    "\n",
    "    return action"
   ],
   "execution_count": null,
   "outputs": []
  },
  {
   "cell_type": "markdown",
   "metadata": {
    "id": "Ea8W7_qwlTJr"
   },
   "source": [
    "### Apply SARSA to the game"
   ]
  },
  {
   "cell_type": "code",
   "metadata": {
    "id": "gXlU1plMlib2"
   },
   "source": [
    "# Initialize action value function\n",
    "# TODO\n",
    "action_value_func_SARSA_eps_greedy = #TODO\n"
   ],
   "execution_count": null,
   "outputs": []
  },
  {
   "cell_type": "code",
   "metadata": {
    "id": "BKpF3Ok1zWca"
   },
   "source": [
    "# Play only one step and update action value function for SARSA\n",
    "\n",
    "\n",
    "# Start from one random position\n",
    "env.reset()\n",
    "\n",
    "# For state (St) Take one eps greedy action (At)\n",
    "\n",
    "# For state (St+1) Take a second eps greedy action (At+1)\n",
    "\n",
    "\n",
    "# Update for one step your value_func_td_random matrix according to the formula Main formula of TD(1)\n",
    "# Q(St,At) <- Q(St,At) +  α(Rt+1+ γQ(St+1,At+1) - Q(St,At))\n",
    "\n",
    "\n"
   ],
   "execution_count": null,
   "outputs": []
  },
  {
   "cell_type": "code",
   "metadata": {
    "id": "90nIDoEmSrvz"
   },
   "source": [
    "# Copy paste you code for one step and play ONE GAME (ie until the end of the episod)\n",
    "\n",
    "env.reset()\n",
    "done = False\n",
    "# We play util finish the game\n",
    "while (not done):\n",
    "  # TODO"
   ],
   "execution_count": null,
   "outputs": []
  },
  {
   "cell_type": "code",
   "metadata": {
    "id": "pEI8hxlcSxes"
   },
   "source": [
    "# Copy paste you code ONE GAME and do i for 1000000 iterations\n",
    "\n",
    "for i in range(1000000):\n",
    "  env.reset()\n",
    "  done = False\n",
    "  # We play util finish the game\n",
    "  while (not done):\n",
    "    # TODO\n",
    "  "
   ],
   "execution_count": null,
   "outputs": []
  },
  {
   "cell_type": "markdown",
   "metadata": {
    "id": "Il9Jnskhlk1Y"
   },
   "source": [
    "### Apply Q-learning"
   ]
  },
  {
   "cell_type": "code",
   "metadata": {
    "id": "6dztKiMklnsj"
   },
   "source": [
    "# TODO Off policy over on-policy SARSA"
   ],
   "execution_count": null,
   "outputs": []
  },
  {
   "cell_type": "code",
   "metadata": {
    "id": "NRyCK59OlsW6"
   },
   "source": [
    "# Compare learning time of SARSA vs. Qlearning (ie draw ecart over iteration and see first to converge)"
   ],
   "execution_count": null,
   "outputs": []
  },
  {
   "cell_type": "code",
   "metadata": {
    "id": "u6_VMcQBMvRv"
   },
   "source": [
    ""
   ],
   "execution_count": null,
   "outputs": []
  }
 ]
}